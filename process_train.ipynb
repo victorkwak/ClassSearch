{
 "cells": [
  {
   "cell_type": "code",
   "execution_count": 1,
   "metadata": {},
   "outputs": [],
   "source": [
    "import pandas as pd\n",
    "data = pd.read_csv('data/cs_subs.csv')  # unzip this file"
   ]
  },
  {
   "cell_type": "code",
   "execution_count": 2,
   "metadata": {},
   "outputs": [
    {
     "data": {
      "text/plain": [
       "136"
      ]
     },
     "execution_count": 2,
     "metadata": {},
     "output_type": "execute_result"
    }
   ],
   "source": [
    "len(data['subreddit'].unique())"
   ]
  },
  {
   "cell_type": "code",
   "execution_count": 3,
   "metadata": {},
   "outputs": [
    {
     "data": {
      "text/plain": [
       "(624289, 3)"
      ]
     },
     "execution_count": 3,
     "metadata": {},
     "output_type": "execute_result"
    }
   ],
   "source": [
    "data.shape"
   ]
  },
  {
   "cell_type": "code",
   "execution_count": 4,
   "metadata": {},
   "outputs": [
    {
     "data": {
      "text/plain": [
       "(624281, 3)"
      ]
     },
     "execution_count": 4,
     "metadata": {},
     "output_type": "execute_result"
    }
   ],
   "source": [
    "data.dropna().shape"
   ]
  },
  {
   "cell_type": "code",
   "execution_count": 5,
   "metadata": {},
   "outputs": [],
   "source": [
    "data = data.dropna()"
   ]
  },
  {
   "cell_type": "code",
   "execution_count": 6,
   "metadata": {},
   "outputs": [
    {
     "data": {
      "text/plain": [
       "Android                61202\n",
       "learnprogramming       35288\n",
       "cscareerquestions      32935\n",
       "Windows10              27726\n",
       "webdev                 26849\n",
       "dataisbeautiful        24388\n",
       "softwaregore           23741\n",
       "web_design             22159\n",
       "ProgrammerHumor        19206\n",
       "learnpython            17634\n",
       "raspberry_pi           15659\n",
       "iOSBeta                14508\n",
       "linux                  14058\n",
       "javascript             12971\n",
       "linuxquestions         11464\n",
       "hackernews             11134\n",
       "Python                 11119\n",
       "windows                10132\n",
       "androiddev             10130\n",
       "mac                     9841\n",
       "ios                     9754\n",
       "arduino                 9603\n",
       "java                    9401\n",
       "networking              9378\n",
       "linux4noobs             8004\n",
       "androidthemes           7895\n",
       "chrome                  5862\n",
       "iOSProgramming          5647\n",
       "rust                    5489\n",
       "datascience             5374\n",
       "                       ...  \n",
       "redis                    241\n",
       "dartlang                 240\n",
       "programmerreactions      237\n",
       "Julia                    217\n",
       "reviewmycode             216\n",
       "zsh                      210\n",
       "OSXTweaks                198\n",
       "erlang                   186\n",
       "d3js                     179\n",
       "MaterialDesign           179\n",
       "npm                      164\n",
       "c_language               143\n",
       "learnphp                 120\n",
       "Heroku                   118\n",
       "dailyprogrammer          114\n",
       "cakephp                  113\n",
       "learnruby                106\n",
       "mariadb                   95\n",
       "tinycode                  93\n",
       "groovy                    90\n",
       "pythoncoding              88\n",
       "vagrant                   77\n",
       "Cprog                     38\n",
       "androiddesign             36\n",
       "osxterminal               31\n",
       "learnlaravel              28\n",
       "shell                     24\n",
       "haskelltil                24\n",
       "AskCompSci                17\n",
       "dotfiles                  17\n",
       "Name: subreddit, Length: 136, dtype: int64"
      ]
     },
     "execution_count": 6,
     "metadata": {},
     "output_type": "execute_result"
    }
   ],
   "source": [
    "data['subreddit'].value_counts()"
   ]
  },
  {
   "cell_type": "code",
   "execution_count": 7,
   "metadata": {},
   "outputs": [
    {
     "data": {
      "text/html": [
       "<div>\n",
       "<style scoped>\n",
       "    .dataframe tbody tr th:only-of-type {\n",
       "        vertical-align: middle;\n",
       "    }\n",
       "\n",
       "    .dataframe tbody tr th {\n",
       "        vertical-align: top;\n",
       "    }\n",
       "\n",
       "    .dataframe thead th {\n",
       "        text-align: right;\n",
       "    }\n",
       "</style>\n",
       "<table border=\"1\" class=\"dataframe\">\n",
       "  <thead>\n",
       "    <tr style=\"text-align: right;\">\n",
       "      <th></th>\n",
       "      <th>title</th>\n",
       "      <th>score</th>\n",
       "      <th>subreddit</th>\n",
       "    </tr>\n",
       "  </thead>\n",
       "  <tbody>\n",
       "    <tr>\n",
       "      <th>356711</th>\n",
       "      <td>Does anyone with experience in advertising kno...</td>\n",
       "      <td>1</td>\n",
       "      <td>web_design</td>\n",
       "    </tr>\n",
       "    <tr>\n",
       "      <th>337044</th>\n",
       "      <td>Windows 10 help</td>\n",
       "      <td>1</td>\n",
       "      <td>Windows10</td>\n",
       "    </tr>\n",
       "    <tr>\n",
       "      <th>330488</th>\n",
       "      <td>Bash does not automatically start when opening...</td>\n",
       "      <td>1</td>\n",
       "      <td>raspberry_pi</td>\n",
       "    </tr>\n",
       "    <tr>\n",
       "      <th>549498</th>\n",
       "      <td>Clustering your Elixir application on AWS insi...</td>\n",
       "      <td>1</td>\n",
       "      <td>elixir</td>\n",
       "    </tr>\n",
       "    <tr>\n",
       "      <th>496264</th>\n",
       "      <td>Google Assistant comes to the Nvidia Shield TV...</td>\n",
       "      <td>2</td>\n",
       "      <td>Android</td>\n",
       "    </tr>\n",
       "    <tr>\n",
       "      <th>445789</th>\n",
       "      <td>Microservices with Docker, Flask, and React - ...</td>\n",
       "      <td>51</td>\n",
       "      <td>webdev</td>\n",
       "    </tr>\n",
       "    <tr>\n",
       "      <th>463082</th>\n",
       "      <td>Red Hat on the recent bluetooth security problem</td>\n",
       "      <td>25</td>\n",
       "      <td>linux</td>\n",
       "    </tr>\n",
       "    <tr>\n",
       "      <th>163424</th>\n",
       "      <td>Happy about my new vanity plates.</td>\n",
       "      <td>1</td>\n",
       "      <td>linux</td>\n",
       "    </tr>\n",
       "    <tr>\n",
       "      <th>503040</th>\n",
       "      <td>Software to copy manually added songs from iPh...</td>\n",
       "      <td>2</td>\n",
       "      <td>ios</td>\n",
       "    </tr>\n",
       "    <tr>\n",
       "      <th>22671</th>\n",
       "      <td>What is your experience with bcachefs so far? ...</td>\n",
       "      <td>15</td>\n",
       "      <td>linux</td>\n",
       "    </tr>\n",
       "  </tbody>\n",
       "</table>\n",
       "</div>"
      ],
      "text/plain": [
       "                                                    title  score     subreddit\n",
       "356711  Does anyone with experience in advertising kno...      1    web_design\n",
       "337044                                    Windows 10 help      1     Windows10\n",
       "330488  Bash does not automatically start when opening...      1  raspberry_pi\n",
       "549498  Clustering your Elixir application on AWS insi...      1        elixir\n",
       "496264  Google Assistant comes to the Nvidia Shield TV...      2       Android\n",
       "445789  Microservices with Docker, Flask, and React - ...     51        webdev\n",
       "463082   Red Hat on the recent bluetooth security problem     25         linux\n",
       "163424                  Happy about my new vanity plates.      1         linux\n",
       "503040  Software to copy manually added songs from iPh...      2           ios\n",
       "22671   What is your experience with bcachefs so far? ...     15         linux"
      ]
     },
     "execution_count": 7,
     "metadata": {},
     "output_type": "execute_result"
    }
   ],
   "source": [
    "data.sample(10)"
   ]
  },
  {
   "cell_type": "markdown",
   "metadata": {},
   "source": [
    "#### We are filtering subreddits that have less than 150 posts. "
   ]
  },
  {
   "cell_type": "code",
   "execution_count": 8,
   "metadata": {},
   "outputs": [],
   "source": [
    "counts = data['subreddit'].value_counts()\n",
    "counts = counts[counts > 2000]"
   ]
  },
  {
   "cell_type": "code",
   "execution_count": 9,
   "metadata": {},
   "outputs": [],
   "source": [
    "top_values = list(counts.index)\n",
    "data = data[data['subreddit'].isin(top_values)]"
   ]
  },
  {
   "cell_type": "code",
   "execution_count": 10,
   "metadata": {},
   "outputs": [
    {
     "data": {
      "text/plain": [
       "Android                61202\n",
       "learnprogramming       35288\n",
       "cscareerquestions      32935\n",
       "Windows10              27726\n",
       "webdev                 26849\n",
       "dataisbeautiful        24388\n",
       "softwaregore           23741\n",
       "web_design             22159\n",
       "ProgrammerHumor        19206\n",
       "learnpython            17634\n",
       "raspberry_pi           15659\n",
       "iOSBeta                14508\n",
       "linux                  14058\n",
       "javascript             12971\n",
       "linuxquestions         11464\n",
       "hackernews             11134\n",
       "Python                 11119\n",
       "windows                10132\n",
       "androiddev             10130\n",
       "mac                     9841\n",
       "ios                     9754\n",
       "arduino                 9603\n",
       "java                    9401\n",
       "networking              9378\n",
       "linux4noobs             8004\n",
       "androidthemes           7895\n",
       "chrome                  5862\n",
       "iOSProgramming          5647\n",
       "rust                    5489\n",
       "datascience             5374\n",
       "aws                     5112\n",
       "javahelp                4829\n",
       "Web_Development         4732\n",
       "reactjs                 4533\n",
       "golang                  4376\n",
       "node                    4061\n",
       "artificial              3839\n",
       "csharp                  3743\n",
       "swift                   3678\n",
       "csshelp                 3399\n",
       "Angular2                3354\n",
       "computerscience         3033\n",
       "haskell                 2987\n",
       "opensource              2909\n",
       "dotnet                  2775\n",
       "softwaredevelopment     2739\n",
       "AskNetsec               2737\n",
       "cpp                     2699\n",
       "coding                  2398\n",
       "laravel                 2384\n",
       "compsci                 2360\n",
       "rails                   2246\n",
       "ruby                    2244\n",
       "css                     2211\n",
       "C_Programming           2171\n",
       "django                  2116\n",
       "Database                2033\n",
       "Name: subreddit, dtype: int64"
      ]
     },
     "execution_count": 10,
     "metadata": {},
     "output_type": "execute_result"
    }
   ],
   "source": [
    "data['subreddit'].value_counts()"
   ]
  },
  {
   "cell_type": "code",
   "execution_count": 11,
   "metadata": {},
   "outputs": [
    {
     "data": {
      "text/plain": [
       "(574249, 3)"
      ]
     },
     "execution_count": 11,
     "metadata": {},
     "output_type": "execute_result"
    }
   ],
   "source": [
    "data.shape"
   ]
  },
  {
   "cell_type": "code",
   "execution_count": 12,
   "metadata": {},
   "outputs": [
    {
     "data": {
      "text/plain": [
       "(57,)"
      ]
     },
     "execution_count": 12,
     "metadata": {},
     "output_type": "execute_result"
    }
   ],
   "source": [
    "data['subreddit'].unique().shape"
   ]
  },
  {
   "cell_type": "markdown",
   "metadata": {},
   "source": [
    "We have a lot of data. Especially for my Macbook. Let's see the average reddit score (upvotes + downvotes) for each subreddit to filter out. I want to do mean and not median since median would just arbitrarily cut the data in half. Hopefully filtering by mean will take relatively larger chunks out of the more popular subreddits than the less popular ones."
   ]
  },
  {
   "cell_type": "code",
   "execution_count": 13,
   "metadata": {},
   "outputs": [],
   "source": [
    "means = {}\n",
    "for subreddit in data['subreddit'].unique():\n",
    "    means[subreddit] = data[data['subreddit'] == subreddit]['score'].mean()"
   ]
  },
  {
   "cell_type": "code",
   "execution_count": 14,
   "metadata": {
    "scrolled": true
   },
   "outputs": [
    {
     "data": {
      "text/plain": [
       "{'Android': 75.0088722590765,\n",
       " 'Angular2': 5.473166368515206,\n",
       " 'AskNetsec': 6.923273657289003,\n",
       " 'C_Programming': 6.593274988484569,\n",
       " 'Database': 2.3162813575996064,\n",
       " 'ProgrammerHumor': 460.36457357075915,\n",
       " 'Python': 19.62010972209731,\n",
       " 'Web_Development': 1.165680473372781,\n",
       " 'Windows10': 14.500180336146578,\n",
       " 'androiddev': 11.89121421520237,\n",
       " 'androidthemes': 30.770867637745408,\n",
       " 'arduino': 12.679683432260752,\n",
       " 'artificial': 7.961448293826518,\n",
       " 'aws': 6.961463223787168,\n",
       " 'chrome': 5.607130672125554,\n",
       " 'coding': 13.21768140116764,\n",
       " 'compsci': 21.0,\n",
       " 'computerscience': 5.429937355753379,\n",
       " 'cpp': 21.44868469803631,\n",
       " 'cscareerquestions': 9.30821314710794,\n",
       " 'csharp': 11.75581084691424,\n",
       " 'css': 5.632745364088648,\n",
       " 'csshelp': 1.5042659605766402,\n",
       " 'dataisbeautiful': 316.7866983762506,\n",
       " 'datascience': 8.189430591737997,\n",
       " 'django': 5.676748582230624,\n",
       " 'dotnet': 10.152072072072071,\n",
       " 'golang': 13.324040219378428,\n",
       " 'hackernews': 4.136428956349919,\n",
       " 'haskell': 24.44258453297623,\n",
       " 'iOSBeta': 11.140887786049076,\n",
       " 'iOSProgramming': 6.810341774393483,\n",
       " 'ios': 7.587656346114414,\n",
       " 'java': 6.7981065844059145,\n",
       " 'javahelp': 2.0778629115758958,\n",
       " 'javascript': 11.282553388327809,\n",
       " 'laravel': 5.533137583892618,\n",
       " 'learnprogramming': 11.639112446157334,\n",
       " 'learnpython': 5.545083361687649,\n",
       " 'linux': 62.09816474605207,\n",
       " 'linux4noobs': 5.7166416791604195,\n",
       " 'linuxquestions': 3.863049546406141,\n",
       " 'mac': 6.823290316024794,\n",
       " 'networking': 9.80251652804436,\n",
       " 'node': 8.397439054420094,\n",
       " 'opensource': 15.785149535922997,\n",
       " 'rails': 4.292520035618878,\n",
       " 'raspberry_pi': 29.78785363050003,\n",
       " 'reactjs': 10.00154423119347,\n",
       " 'ruby': 10.942513368983958,\n",
       " 'rust': 30.038804882492258,\n",
       " 'softwaredevelopment': 1.2789339174881345,\n",
       " 'softwaregore': 112.0459121351249,\n",
       " 'swift': 7.778955954323002,\n",
       " 'web_design': 9.068685409991426,\n",
       " 'webdev': 13.224179671496145,\n",
       " 'windows': 7.781188314251875}"
      ]
     },
     "execution_count": 14,
     "metadata": {},
     "output_type": "execute_result"
    }
   ],
   "source": [
    "means"
   ]
  },
  {
   "cell_type": "code",
   "execution_count": 15,
   "metadata": {},
   "outputs": [],
   "source": [
    "import numpy as np\n",
    "\n",
    "\n",
    "filtered = []\n",
    "\n",
    "for subreddit in data['subreddit'].unique():\n",
    "    filtered.append(data.loc[(data['subreddit'] == subreddit) & (data['score'] >= means[subreddit])])"
   ]
  },
  {
   "cell_type": "code",
   "execution_count": 16,
   "metadata": {},
   "outputs": [],
   "source": [
    "filtered_data = pd.concat(filtered)"
   ]
  },
  {
   "cell_type": "code",
   "execution_count": 17,
   "metadata": {},
   "outputs": [
    {
     "data": {
      "text/plain": [
       "Android                6807\n",
       "linuxquestions         3893\n",
       "cscareerquestions      3772\n",
       "learnpython            3081\n",
       "webdev                 2565\n",
       "hackernews             2563\n",
       "iOSBeta                2424\n",
       "Windows10              2338\n",
       "linux4noobs            2275\n",
       "ProgrammerHumor        2194\n",
       "networking             2174\n",
       "androiddev             2026\n",
       "linux                  2013\n",
       "windows                2005\n",
       "javascript             1880\n",
       "learnprogramming       1813\n",
       "softwaregore           1746\n",
       "ios                    1737\n",
       "java                   1672\n",
       "androidthemes          1664\n",
       "chrome                 1548\n",
       "Python                 1474\n",
       "aws                    1471\n",
       "rust                   1466\n",
       "web_design             1361\n",
       "javahelp               1326\n",
       "arduino                1205\n",
       "iOSProgramming         1190\n",
       "mac                    1150\n",
       "csshelp                1101\n",
       "datascience            1081\n",
       "AskNetsec              1079\n",
       "golang                 1058\n",
       "raspberry_pi           1037\n",
       "reactjs                1030\n",
       "haskell                1018\n",
       "Angular2                930\n",
       "csharp                  915\n",
       "node                    901\n",
       "artificial              865\n",
       "dataisbeautiful         864\n",
       "cpp                     822\n",
       "dotnet                  795\n",
       "swift                   790\n",
       "computerscience         779\n",
       "ruby                    698\n",
       "rails                   691\n",
       "laravel                 612\n",
       "opensource              584\n",
       "django                  552\n",
       "css                     540\n",
       "C_Programming           511\n",
       "coding                  501\n",
       "compsci                 480\n",
       "Database                344\n",
       "Web_Development         263\n",
       "softwaredevelopment     178\n",
       "Name: subreddit, dtype: int64"
      ]
     },
     "execution_count": 17,
     "metadata": {},
     "output_type": "execute_result"
    }
   ],
   "source": [
    "filtered_data['subreddit'].value_counts()"
   ]
  },
  {
   "cell_type": "code",
   "execution_count": 18,
   "metadata": {},
   "outputs": [
    {
     "data": {
      "text/plain": [
       "(83852, 3)"
      ]
     },
     "execution_count": 18,
     "metadata": {},
     "output_type": "execute_result"
    }
   ],
   "source": [
    "filtered_data.shape"
   ]
  },
  {
   "cell_type": "code",
   "execution_count": 19,
   "metadata": {},
   "outputs": [
    {
     "data": {
      "text/plain": [
       "(83744, 3)"
      ]
     },
     "execution_count": 19,
     "metadata": {},
     "output_type": "execute_result"
    }
   ],
   "source": [
    "filtered_data.drop_duplicates().shape"
   ]
  },
  {
   "cell_type": "code",
   "execution_count": 20,
   "metadata": {},
   "outputs": [],
   "source": [
    "filtered_data = filtered_data.drop_duplicates()"
   ]
  },
  {
   "cell_type": "code",
   "execution_count": 21,
   "metadata": {},
   "outputs": [
    {
     "data": {
      "text/html": [
       "<div>\n",
       "<style scoped>\n",
       "    .dataframe tbody tr th:only-of-type {\n",
       "        vertical-align: middle;\n",
       "    }\n",
       "\n",
       "    .dataframe tbody tr th {\n",
       "        vertical-align: top;\n",
       "    }\n",
       "\n",
       "    .dataframe thead th {\n",
       "        text-align: right;\n",
       "    }\n",
       "</style>\n",
       "<table border=\"1\" class=\"dataframe\">\n",
       "  <thead>\n",
       "    <tr style=\"text-align: right;\">\n",
       "      <th></th>\n",
       "      <th>title</th>\n",
       "      <th>score</th>\n",
       "      <th>subreddit</th>\n",
       "    </tr>\n",
       "  </thead>\n",
       "  <tbody>\n",
       "    <tr>\n",
       "      <th>503735</th>\n",
       "      <td>300ms delay on iOS full screen web apps</td>\n",
       "      <td>6</td>\n",
       "      <td>Angular2</td>\n",
       "    </tr>\n",
       "    <tr>\n",
       "      <th>614696</th>\n",
       "      <td>Irl software gore</td>\n",
       "      <td>162</td>\n",
       "      <td>softwaregore</td>\n",
       "    </tr>\n",
       "    <tr>\n",
       "      <th>116324</th>\n",
       "      <td>Samsung Galaxy S8+ (Plus, SM-G955F) Smartphone...</td>\n",
       "      <td>215</td>\n",
       "      <td>Android</td>\n",
       "    </tr>\n",
       "    <tr>\n",
       "      <th>421977</th>\n",
       "      <td>npm monthly: Chai 4, ESLint 4, webpack 2.6 and...</td>\n",
       "      <td>14</td>\n",
       "      <td>javascript</td>\n",
       "    </tr>\n",
       "    <tr>\n",
       "      <th>63499</th>\n",
       "      <td>I bough the the cheapest One Hung Lo soldering...</td>\n",
       "      <td>38</td>\n",
       "      <td>arduino</td>\n",
       "    </tr>\n",
       "    <tr>\n",
       "      <th>37783</th>\n",
       "      <td>Xiaomi Redmi Pro 2 leaked: Snapdragon 660, 6GB...</td>\n",
       "      <td>185</td>\n",
       "      <td>Android</td>\n",
       "    </tr>\n",
       "    <tr>\n",
       "      <th>449939</th>\n",
       "      <td>Boeing 787 In Flight Entertainment System Secu...</td>\n",
       "      <td>9</td>\n",
       "      <td>hackernews</td>\n",
       "    </tr>\n",
       "    <tr>\n",
       "      <th>508909</th>\n",
       "      <td>Our blind people targeted app is doing well......</td>\n",
       "      <td>308</td>\n",
       "      <td>androiddev</td>\n",
       "    </tr>\n",
       "    <tr>\n",
       "      <th>100041</th>\n",
       "      <td>A list of resources that helped me learn Lists...</td>\n",
       "      <td>64</td>\n",
       "      <td>learnpython</td>\n",
       "    </tr>\n",
       "    <tr>\n",
       "      <th>420917</th>\n",
       "      <td>Anyone have experience with Onenote in Linux?</td>\n",
       "      <td>6</td>\n",
       "      <td>linux4noobs</td>\n",
       "    </tr>\n",
       "    <tr>\n",
       "      <th>137643</th>\n",
       "      <td>ELI .Net Core</td>\n",
       "      <td>16</td>\n",
       "      <td>csharp</td>\n",
       "    </tr>\n",
       "    <tr>\n",
       "      <th>276455</th>\n",
       "      <td>Have you built a project with Hanami? I'm inte...</td>\n",
       "      <td>34</td>\n",
       "      <td>ruby</td>\n",
       "    </tr>\n",
       "    <tr>\n",
       "      <th>437287</th>\n",
       "      <td>Backup your MongoDB databases to Amazon S3</td>\n",
       "      <td>8</td>\n",
       "      <td>aws</td>\n",
       "    </tr>\n",
       "    <tr>\n",
       "      <th>577230</th>\n",
       "      <td>Thanks for being real with me, Avast.</td>\n",
       "      <td>1234</td>\n",
       "      <td>ProgrammerHumor</td>\n",
       "    </tr>\n",
       "    <tr>\n",
       "      <th>219524</th>\n",
       "      <td>LG G6 Goldberg - Built for the unexpected</td>\n",
       "      <td>138</td>\n",
       "      <td>Android</td>\n",
       "    </tr>\n",
       "    <tr>\n",
       "      <th>386448</th>\n",
       "      <td>So why do people like GNOME?</td>\n",
       "      <td>75</td>\n",
       "      <td>linux</td>\n",
       "    </tr>\n",
       "    <tr>\n",
       "      <th>22030</th>\n",
       "      <td>An Explainer on Unix’s Most Notorious Code Com...</td>\n",
       "      <td>5</td>\n",
       "      <td>hackernews</td>\n",
       "    </tr>\n",
       "    <tr>\n",
       "      <th>316600</th>\n",
       "      <td>Waste of space.. Guess it's getting cut and go...</td>\n",
       "      <td>713</td>\n",
       "      <td>raspberry_pi</td>\n",
       "    </tr>\n",
       "    <tr>\n",
       "      <th>457453</th>\n",
       "      <td>Startup recruitment timelines?</td>\n",
       "      <td>10</td>\n",
       "      <td>cscareerquestions</td>\n",
       "    </tr>\n",
       "    <tr>\n",
       "      <th>483575</th>\n",
       "      <td>Updates on the new App Store are very slow</td>\n",
       "      <td>15</td>\n",
       "      <td>ios</td>\n",
       "    </tr>\n",
       "  </tbody>\n",
       "</table>\n",
       "</div>"
      ],
      "text/plain": [
       "                                                    title  score  \\\n",
       "503735            300ms delay on iOS full screen web apps      6   \n",
       "614696                                  Irl software gore    162   \n",
       "116324  Samsung Galaxy S8+ (Plus, SM-G955F) Smartphone...    215   \n",
       "421977  npm monthly: Chai 4, ESLint 4, webpack 2.6 and...     14   \n",
       "63499   I bough the the cheapest One Hung Lo soldering...     38   \n",
       "37783   Xiaomi Redmi Pro 2 leaked: Snapdragon 660, 6GB...    185   \n",
       "449939  Boeing 787 In Flight Entertainment System Secu...      9   \n",
       "508909  Our blind people targeted app is doing well......    308   \n",
       "100041  A list of resources that helped me learn Lists...     64   \n",
       "420917      Anyone have experience with Onenote in Linux?      6   \n",
       "137643                                      ELI .Net Core     16   \n",
       "276455  Have you built a project with Hanami? I'm inte...     34   \n",
       "437287         Backup your MongoDB databases to Amazon S3      8   \n",
       "577230              Thanks for being real with me, Avast.   1234   \n",
       "219524          LG G6 Goldberg - Built for the unexpected    138   \n",
       "386448                       So why do people like GNOME?     75   \n",
       "22030   An Explainer on Unix’s Most Notorious Code Com...      5   \n",
       "316600  Waste of space.. Guess it's getting cut and go...    713   \n",
       "457453                     Startup recruitment timelines?     10   \n",
       "483575         Updates on the new App Store are very slow     15   \n",
       "\n",
       "                subreddit  \n",
       "503735           Angular2  \n",
       "614696       softwaregore  \n",
       "116324            Android  \n",
       "421977         javascript  \n",
       "63499             arduino  \n",
       "37783             Android  \n",
       "449939         hackernews  \n",
       "508909         androiddev  \n",
       "100041        learnpython  \n",
       "420917        linux4noobs  \n",
       "137643             csharp  \n",
       "276455               ruby  \n",
       "437287                aws  \n",
       "577230    ProgrammerHumor  \n",
       "219524            Android  \n",
       "386448              linux  \n",
       "22030          hackernews  \n",
       "316600       raspberry_pi  \n",
       "457453  cscareerquestions  \n",
       "483575                ios  "
      ]
     },
     "execution_count": 21,
     "metadata": {},
     "output_type": "execute_result"
    }
   ],
   "source": [
    "filtered_data.sample(20)"
   ]
  },
  {
   "cell_type": "code",
   "execution_count": 22,
   "metadata": {},
   "outputs": [],
   "source": [
    "X = filtered_data['title']\n",
    "y = filtered_data['subreddit']"
   ]
  },
  {
   "cell_type": "markdown",
   "metadata": {},
   "source": [
    "#### Splitting data into train (60%), val (20%), and test (20%)."
   ]
  },
  {
   "cell_type": "code",
   "execution_count": 23,
   "metadata": {},
   "outputs": [
    {
     "name": "stdout",
     "output_type": "stream",
     "text": [
      "(50246,)\n",
      "(16749,)\n",
      "(16749,)\n",
      "(50246,)\n",
      "(16749,)\n",
      "(16749,)\n"
     ]
    }
   ],
   "source": [
    "from sklearn.model_selection import train_test_split\n",
    "X_train, X_test, y_train, y_test = train_test_split(X, y, test_size=0.4, random_state=17)\n",
    "X_test, X_val, y_test, y_val = train_test_split(X_test, y_test, test_size=0.5, random_state=31)\n",
    "print(X_train.shape)\n",
    "print(X_test.shape)\n",
    "print(X_val.shape)\n",
    "print(y_train.shape)\n",
    "print(y_test.shape)\n",
    "print(y_val.shape)"
   ]
  },
  {
   "cell_type": "markdown",
   "metadata": {},
   "source": [
    "#Baseline\n",
    "Simple baseline using tf-idf based approaches"
   ]
  },
  {
   "cell_type": "code",
   "execution_count": 24,
   "metadata": {},
   "outputs": [],
   "source": [
    "from sklearn.preprocessing import LabelEncoder\n",
    "\n",
    "\n",
    "label_encoder = LabelEncoder()\n",
    "label_encoder.fit(data['subreddit'])\n",
    "\n",
    "y_train = label_encoder.transform(y_train)\n",
    "y_val = label_encoder.transform(y_val)\n",
    "y_test = label_encoder.transform(y_test)"
   ]
  },
  {
   "cell_type": "code",
   "execution_count": 25,
   "metadata": {},
   "outputs": [
    {
     "data": {
      "text/plain": [
       "57"
      ]
     },
     "execution_count": 25,
     "metadata": {},
     "output_type": "execute_result"
    }
   ],
   "source": [
    "len(label_encoder.classes_)"
   ]
  },
  {
   "cell_type": "code",
   "execution_count": 26,
   "metadata": {},
   "outputs": [],
   "source": [
    "from sklearn.feature_extraction.text import TfidfVectorizer\n",
    "\n",
    "\n",
    "vectorizer = TfidfVectorizer(ngram_range=(1, 1), stop_words='english')\n",
    "X_train_vectors = vectorizer.fit_transform(X_train)\n",
    "X_val_vectors = vectorizer.transform(X_val)\n",
    "X_test_vectors = vectorizer.transform(X_test)"
   ]
  },
  {
   "cell_type": "code",
   "execution_count": 27,
   "metadata": {},
   "outputs": [],
   "source": [
    "import numpy as np\n",
    "from sklearn.metrics import accuracy_score\n",
    "from sklearn.metrics import classification_report\n",
    "\n",
    "\n",
    "def top_n_accuracy(y_true, probs, n=5):\n",
    "    top_n_list = []\n",
    "    for prob in probs:\n",
    "        top_n_list.append(np.argsort(-prob)[:n])\n",
    "    predictions = []\n",
    "    for prediction, top_n in zip(y_true, top_n_list):\n",
    "        predictions.append(int(prediction in top_n))\n",
    "    return np.sum(predictions) / y_true.shape[0]"
   ]
  },
  {
   "cell_type": "code",
   "execution_count": 28,
   "metadata": {},
   "outputs": [
    {
     "data": {
      "text/plain": [
       "MultinomialNB(alpha=1.0, class_prior=None, fit_prior=True)"
      ]
     },
     "execution_count": 28,
     "metadata": {},
     "output_type": "execute_result"
    }
   ],
   "source": [
    "from sklearn.naive_bayes import MultinomialNB\n",
    "nb = MultinomialNB()\n",
    "nb.fit(X_train_vectors, y_train)"
   ]
  },
  {
   "cell_type": "code",
   "execution_count": 29,
   "metadata": {},
   "outputs": [],
   "source": [
    "nb_predictions = nb.predict(X_val_vectors)\n",
    "nb_probs = nb.predict_proba(X_val_vectors)"
   ]
  },
  {
   "cell_type": "code",
   "execution_count": 30,
   "metadata": {
    "scrolled": false
   },
   "outputs": [
    {
     "name": "stdout",
     "output_type": "stream",
     "text": [
      "Top 1 accuracy:\n",
      " 0.343901128426\n",
      "Top 5 accuracy:\n",
      " 0.687444026509\n",
      "             precision    recall  f1-score   support\n",
      "\n",
      "          0       0.20      0.99      0.34      1363\n",
      "          1       0.94      0.32      0.48       180\n",
      "          2       0.50      0.00      0.01       225\n",
      "          3       0.00      0.00      0.00       106\n",
      "          4       0.00      0.00      0.00        67\n",
      "          5       0.60      0.09      0.16       449\n",
      "          6       0.67      0.05      0.10       301\n",
      "          7       0.00      0.00      0.00        53\n",
      "          8       0.55      0.37      0.44       452\n",
      "          9       0.74      0.28      0.40       397\n",
      "         10       0.97      0.40      0.57       326\n",
      "         11       0.95      0.35      0.52       218\n",
      "         12       0.94      0.20      0.33       171\n",
      "         13       0.86      0.56      0.67       281\n",
      "         14       0.84      0.26      0.40       330\n",
      "         15       0.00      0.00      0.00        88\n",
      "         16       0.00      0.00      0.00       106\n",
      "         17       0.00      0.00      0.00       158\n",
      "         18       1.00      0.03      0.06       176\n",
      "         19       0.33      0.88      0.48       739\n",
      "         20       0.20      0.01      0.01       175\n",
      "         21       0.50      0.01      0.02        97\n",
      "         22       0.93      0.48      0.63       233\n",
      "         23       0.99      0.39      0.56       170\n",
      "         24       0.83      0.12      0.21       206\n",
      "         25       1.00      0.07      0.13       112\n",
      "         26       0.64      0.27      0.38       165\n",
      "         27       0.50      0.01      0.02       199\n",
      "         28       0.47      0.11      0.18       499\n",
      "         29       0.94      0.16      0.28       202\n",
      "         30       0.67      0.71      0.69       487\n",
      "         31       0.43      0.07      0.12       235\n",
      "         32       0.72      0.04      0.07       344\n",
      "         33       0.76      0.42      0.54       339\n",
      "         34       0.73      0.06      0.10       284\n",
      "         35       0.37      0.24      0.29       421\n",
      "         36       1.00      0.12      0.21       126\n",
      "         37       0.31      0.11      0.16       357\n",
      "         38       0.29      0.71      0.42       642\n",
      "         39       0.58      0.15      0.23       394\n",
      "         40       0.42      0.02      0.03       460\n",
      "         41       0.28      0.78      0.42       738\n",
      "         42       0.89      0.16      0.26       251\n",
      "         43       0.88      0.45      0.60       441\n",
      "         44       0.82      0.07      0.13       201\n",
      "         45       0.00      0.00      0.00       119\n",
      "         46       0.50      0.03      0.06       127\n",
      "         47       0.91      0.24      0.38       209\n",
      "         48       0.66      0.23      0.35       209\n",
      "         49       0.90      0.07      0.12       137\n",
      "         50       0.92      0.44      0.59       274\n",
      "         51       0.00      0.00      0.00        39\n",
      "         52       0.79      0.06      0.12       349\n",
      "         53       0.40      0.04      0.07       169\n",
      "         54       0.47      0.02      0.05       283\n",
      "         55       0.19      0.36      0.25       473\n",
      "         56       0.67      0.14      0.24       397\n",
      "\n",
      "avg / total       0.56      0.34      0.30     16749\n",
      "\n"
     ]
    },
    {
     "name": "stderr",
     "output_type": "stream",
     "text": [
      "/home/victorkwak/anaconda3/lib/python3.5/site-packages/sklearn/metrics/classification.py:1135: UndefinedMetricWarning: Precision and F-score are ill-defined and being set to 0.0 in labels with no predicted samples.\n",
      "  'precision', 'predicted', average, warn_for)\n"
     ]
    }
   ],
   "source": [
    "print('Top 1 accuracy:\\n', top_n_accuracy(y_val, nb_probs, 1))\n",
    "print('Top 5 accuracy:\\n', top_n_accuracy(y_val, nb_probs, 5))\n",
    "print(classification_report(y_val, nb_predictions))"
   ]
  },
  {
   "cell_type": "code",
   "execution_count": 31,
   "metadata": {},
   "outputs": [
    {
     "data": {
      "text/plain": [
       "LinearSVC(C=1.0, class_weight=None, dual=True, fit_intercept=True,\n",
       "     intercept_scaling=1, loss='squared_hinge', max_iter=1000,\n",
       "     multi_class='ovr', penalty='l2', random_state=None, tol=0.0001,\n",
       "     verbose=0)"
      ]
     },
     "execution_count": 31,
     "metadata": {},
     "output_type": "execute_result"
    }
   ],
   "source": [
    "from sklearn.svm import LinearSVC\n",
    "svm = LinearSVC(penalty='l2', loss='squared_hinge', multi_class='ovr', max_iter=1000)\n",
    "svm.fit(X_train_vectors, y_train)"
   ]
  },
  {
   "cell_type": "code",
   "execution_count": 32,
   "metadata": {
    "scrolled": false
   },
   "outputs": [
    {
     "name": "stdout",
     "output_type": "stream",
     "text": [
      "0.53704698788\n",
      "             precision    recall  f1-score   support\n",
      "\n",
      "          0       0.76      0.88      0.81      1363\n",
      "          1       0.85      0.82      0.84       180\n",
      "          2       0.47      0.41      0.44       225\n",
      "          3       0.18      0.11      0.14       106\n",
      "          4       0.32      0.36      0.34        67\n",
      "          5       0.30      0.35      0.32       449\n",
      "          6       0.46      0.34      0.39       301\n",
      "          7       0.12      0.04      0.06        53\n",
      "          8       0.49      0.50      0.50       452\n",
      "          9       0.59      0.62      0.61       397\n",
      "         10       0.66      0.65      0.66       326\n",
      "         11       0.74      0.71      0.72       218\n",
      "         12       0.69      0.75      0.72       171\n",
      "         13       0.75      0.75      0.75       281\n",
      "         14       0.68      0.70      0.69       330\n",
      "         15       0.12      0.07      0.09        88\n",
      "         16       0.20      0.09      0.13       106\n",
      "         17       0.31      0.20      0.24       158\n",
      "         18       0.56      0.52      0.54       176\n",
      "         19       0.56      0.73      0.63       739\n",
      "         20       0.25      0.15      0.19       175\n",
      "         21       0.36      0.43      0.39        97\n",
      "         22       0.72      0.76      0.74       233\n",
      "         23       0.89      0.79      0.83       170\n",
      "         24       0.56      0.59      0.57       206\n",
      "         25       0.78      0.78      0.78       112\n",
      "         26       0.54      0.54      0.54       165\n",
      "         27       0.50      0.39      0.44       199\n",
      "         28       0.39      0.34      0.37       499\n",
      "         29       0.78      0.67      0.72       202\n",
      "         30       0.79      0.94      0.86       487\n",
      "         31       0.45      0.38      0.42       235\n",
      "         32       0.50      0.51      0.51       344\n",
      "         33       0.62      0.69      0.65       339\n",
      "         34       0.37      0.33      0.35       284\n",
      "         35       0.38      0.34      0.36       421\n",
      "         36       0.83      0.67      0.74       126\n",
      "         37       0.26      0.25      0.26       357\n",
      "         38       0.43      0.55      0.49       642\n",
      "         39       0.44      0.43      0.44       394\n",
      "         40       0.26      0.22      0.24       460\n",
      "         41       0.42      0.49      0.45       738\n",
      "         42       0.65      0.61      0.63       251\n",
      "         43       0.71      0.71      0.71       441\n",
      "         44       0.60      0.55      0.57       201\n",
      "         45       0.24      0.17      0.20       119\n",
      "         46       0.55      0.52      0.53       127\n",
      "         47       0.75      0.68      0.71       209\n",
      "         48       0.58      0.69      0.63       209\n",
      "         49       0.72      0.58      0.64       137\n",
      "         50       0.83      0.77      0.80       274\n",
      "         51       0.12      0.03      0.04        39\n",
      "         52       0.28      0.26      0.27       349\n",
      "         53       0.50      0.39      0.44       169\n",
      "         54       0.30      0.28      0.29       283\n",
      "         55       0.23      0.23      0.23       473\n",
      "         56       0.44      0.44      0.44       397\n",
      "\n",
      "avg / total       0.53      0.54      0.53     16749\n",
      "\n"
     ]
    }
   ],
   "source": [
    "svm_predictions = svm.predict(X_val_vectors)\n",
    "\n",
    "print(accuracy_score(y_val, svm_predictions))\n",
    "print(classification_report(y_val, svm_predictions))"
   ]
  },
  {
   "cell_type": "code",
   "execution_count": 33,
   "metadata": {},
   "outputs": [],
   "source": [
    "from gensim.models import Doc2Vec\n",
    "from gensim import utils\n",
    "from gensim.models.doc2vec import TaggedDocument\n",
    "\n",
    "\n",
    "tagged_documents = []\n",
    "tokens = None\n",
    "for text, label in zip(X_train, y_train):\n",
    "    text = text.lower()\n",
    "    tokens = utils.simple_preprocess(text)\n",
    "    tagged_documents.append(TaggedDocument(tokens, [label]))"
   ]
  },
  {
   "cell_type": "code",
   "execution_count": 34,
   "metadata": {},
   "outputs": [
    {
     "data": {
      "text/plain": [
       "[TaggedDocument(words=['forward', 'incoming', 'sms', 'messages', 'to', 'email', 'with', 'node', 'js', 'sendgrid', 'and', 'twilio', 'functions'], tags=[44]),\n",
       " TaggedDocument(words=['how', 'are', 'the', 'players', 'in', 'the', 'augmented', 'reality', 'mlb', 'at', 'bat', 'app', 'tracked'], tags=[31]),\n",
       " TaggedDocument(words=['google', 'photos', 'give', 'and', 'get', 'the', 'photos', 'you', 'care', 'about'], tags=[0]),\n",
       " TaggedDocument(words=['public', 'chat', 'room', 'using', 'firebase'], tags=[4]),\n",
       " TaggedDocument(words=['didn', 'know', 'where', 'to', 'post', 'this', 'but', 'it', 'made', 'me', 'smile'], tags=[5])]"
      ]
     },
     "execution_count": 34,
     "metadata": {},
     "output_type": "execute_result"
    }
   ],
   "source": [
    "tagged_documents[:5]"
   ]
  },
  {
   "cell_type": "code",
   "execution_count": 35,
   "metadata": {},
   "outputs": [],
   "source": [
    "model = Doc2Vec(size=64, window=7, min_count=1, workers=4, iter=20)"
   ]
  },
  {
   "cell_type": "code",
   "execution_count": 36,
   "metadata": {},
   "outputs": [
    {
     "data": {
      "text/plain": [
       "8857891"
      ]
     },
     "execution_count": 36,
     "metadata": {},
     "output_type": "execute_result"
    }
   ],
   "source": [
    "model.build_vocab(tagged_documents)\n",
    "model.train(tagged_documents, total_examples=model.corpus_count, epochs=model.iter)"
   ]
  },
  {
   "cell_type": "code",
   "execution_count": 37,
   "metadata": {},
   "outputs": [],
   "source": [
    "X_train_vectors = X_train.map(lambda title: model.infer_vector(utils.simple_preprocess(title))).values"
   ]
  },
  {
   "cell_type": "code",
   "execution_count": 38,
   "metadata": {},
   "outputs": [],
   "source": [
    "X_train_vectors = np.array(list(X_train_vectors), dtype=np.float)"
   ]
  },
  {
   "cell_type": "code",
   "execution_count": 39,
   "metadata": {},
   "outputs": [
    {
     "data": {
      "text/plain": [
       "(50246, 64)"
      ]
     },
     "execution_count": 39,
     "metadata": {},
     "output_type": "execute_result"
    }
   ],
   "source": [
    "X_train_vectors.shape"
   ]
  },
  {
   "cell_type": "code",
   "execution_count": 40,
   "metadata": {},
   "outputs": [
    {
     "data": {
      "text/plain": [
       "LinearSVC(C=1.0, class_weight=None, dual=True, fit_intercept=True,\n",
       "     intercept_scaling=1, loss='squared_hinge', max_iter=1000,\n",
       "     multi_class='ovr', penalty='l2', random_state=None, tol=0.0001,\n",
       "     verbose=0)"
      ]
     },
     "execution_count": 40,
     "metadata": {},
     "output_type": "execute_result"
    }
   ],
   "source": [
    "from sklearn.svm import LinearSVC\n",
    "svm = LinearSVC(penalty='l2', loss='squared_hinge', multi_class='ovr', max_iter=1000)\n",
    "svm.fit(X_train_vectors, y_train)"
   ]
  },
  {
   "cell_type": "code",
   "execution_count": 41,
   "metadata": {},
   "outputs": [],
   "source": [
    "X_val_vectors = X_val.map(lambda title: model.infer_vector(utils.simple_preprocess(title))).values\n",
    "X_val_vectors = np.array(list(X_val_vectors), dtype=np.float)"
   ]
  },
  {
   "cell_type": "code",
   "execution_count": 42,
   "metadata": {},
   "outputs": [],
   "source": [
    "svm_predictions = svm.predict(X_val_vectors)"
   ]
  },
  {
   "cell_type": "code",
   "execution_count": 43,
   "metadata": {
    "scrolled": false
   },
   "outputs": [
    {
     "name": "stdout",
     "output_type": "stream",
     "text": [
      "0.323422293868\n",
      "             precision    recall  f1-score   support\n",
      "\n",
      "          0       0.35      0.67      0.46      1363\n",
      "          1       0.61      0.77      0.68       180\n",
      "          2       0.30      0.03      0.06       225\n",
      "          3       0.00      0.00      0.00       106\n",
      "          4       0.00      0.00      0.00        67\n",
      "          5       0.18      0.10      0.13       449\n",
      "          6       0.29      0.24      0.26       301\n",
      "          7       0.00      0.00      0.00        53\n",
      "          8       0.23      0.24      0.24       452\n",
      "          9       0.25      0.32      0.28       397\n",
      "         10       0.32      0.58      0.42       326\n",
      "         11       0.40      0.59      0.48       218\n",
      "         12       0.47      0.55      0.51       171\n",
      "         13       0.34      0.57      0.43       281\n",
      "         14       0.35      0.35      0.35       330\n",
      "         15       0.00      0.00      0.00        88\n",
      "         16       0.00      0.00      0.00       106\n",
      "         17       0.00      0.00      0.00       158\n",
      "         18       0.41      0.07      0.12       176\n",
      "         19       0.27      0.38      0.31       739\n",
      "         20       0.00      0.00      0.00       175\n",
      "         21       0.39      0.20      0.26        97\n",
      "         22       0.40      0.52      0.45       233\n",
      "         23       0.45      0.67      0.54       170\n",
      "         24       0.23      0.08      0.12       206\n",
      "         25       0.58      0.61      0.59       112\n",
      "         26       0.44      0.15      0.22       165\n",
      "         27       0.41      0.68      0.51       199\n",
      "         28       0.17      0.21      0.19       499\n",
      "         29       0.49      0.57      0.53       202\n",
      "         30       0.41      0.70      0.52       487\n",
      "         31       0.21      0.08      0.11       235\n",
      "         32       0.34      0.21      0.26       344\n",
      "         33       0.34      0.54      0.41       339\n",
      "         34       0.26      0.04      0.07       284\n",
      "         35       0.24      0.24      0.24       421\n",
      "         36       0.56      0.55      0.55       126\n",
      "         37       0.04      0.00      0.01       357\n",
      "         38       0.23      0.29      0.25       642\n",
      "         39       0.25      0.24      0.24       394\n",
      "         40       0.03      0.00      0.00       460\n",
      "         41       0.23      0.36      0.28       738\n",
      "         42       0.31      0.29      0.30       251\n",
      "         43       0.35      0.57      0.44       441\n",
      "         44       0.34      0.05      0.09       201\n",
      "         45       0.00      0.00      0.00       119\n",
      "         46       0.38      0.25      0.30       127\n",
      "         47       0.35      0.19      0.24       209\n",
      "         48       0.41      0.50      0.45       209\n",
      "         49       0.53      0.50      0.52       137\n",
      "         50       0.47      0.68      0.55       274\n",
      "         51       0.00      0.00      0.00        39\n",
      "         52       0.21      0.04      0.07       349\n",
      "         53       0.42      0.37      0.39       169\n",
      "         54       0.20      0.08      0.11       283\n",
      "         55       0.13      0.05      0.07       473\n",
      "         56       0.24      0.16      0.19       397\n",
      "\n",
      "avg / total       0.28      0.32      0.28     16749\n",
      "\n"
     ]
    },
    {
     "name": "stderr",
     "output_type": "stream",
     "text": [
      "/home/victorkwak/anaconda3/lib/python3.5/site-packages/sklearn/metrics/classification.py:1135: UndefinedMetricWarning: Precision and F-score are ill-defined and being set to 0.0 in labels with no predicted samples.\n",
      "  'precision', 'predicted', average, warn_for)\n"
     ]
    }
   ],
   "source": [
    "from sklearn.metrics import accuracy_score\n",
    "\n",
    "print(accuracy_score(y_val, svm_predictions))\n",
    "print(classification_report(y_val, svm_predictions))"
   ]
  },
  {
   "cell_type": "code",
   "execution_count": 44,
   "metadata": {},
   "outputs": [],
   "source": [
    "ENGLISH_STOP_WORDS = frozenset([\n",
    "    \"a\", \"about\", \"above\", \"across\", \"after\", \"afterwards\", \"again\", \"against\",\n",
    "    \"all\", \"almost\", \"alone\", \"along\", \"already\", \"also\", \"although\", \"always\",\n",
    "    \"am\", \"among\", \"amongst\", \"amoungst\", \"amount\", \"an\", \"and\", \"another\",\n",
    "    \"any\", \"anyhow\", \"anyone\", \"anything\", \"anyway\", \"anywhere\", \"are\",\n",
    "    \"around\", \"as\", \"at\", \"back\", \"be\", \"became\", \"because\", \"become\",\n",
    "    \"becomes\", \"becoming\", \"been\", \"before\", \"beforehand\", \"behind\", \"being\",\n",
    "    \"below\", \"beside\", \"besides\", \"between\", \"beyond\", \"bill\", \"both\",\n",
    "    \"bottom\", \"but\", \"by\", \"call\", \"can\", \"cannot\", \"cant\", \"co\", \"con\",\n",
    "    \"could\", \"couldnt\", \"cry\", \"de\", \"describe\", \"detail\", \"do\", \"done\",\n",
    "    \"down\", \"due\", \"during\", \"each\", \"eg\", \"eight\", \"either\", \"eleven\", \"else\",\n",
    "    \"elsewhere\", \"empty\", \"enough\", \"etc\", \"even\", \"ever\", \"every\", \"everyone\",\n",
    "    \"everything\", \"everywhere\", \"except\", \"few\", \"fifteen\", \"fifty\", \"fill\",\n",
    "    \"find\", \"fire\", \"first\", \"five\", \"for\", \"former\", \"formerly\", \"forty\",\n",
    "    \"found\", \"four\", \"from\", \"front\", \"full\", \"further\", \"get\", \"give\", \"go\",\n",
    "    \"had\", \"has\", \"hasnt\", \"have\", \"he\", \"hence\", \"her\", \"here\", \"hereafter\",\n",
    "    \"hereby\", \"herein\", \"hereupon\", \"hers\", \"herself\", \"him\", \"himself\", \"his\",\n",
    "    \"how\", \"however\", \"hundred\", \"i\", \"ie\", \"if\", \"in\", \"inc\", \"indeed\",\n",
    "    \"interest\", \"into\", \"is\", \"it\", \"its\", \"itself\", \"keep\", \"last\", \"latter\",\n",
    "    \"latterly\", \"least\", \"less\", \"ltd\", \"made\", \"many\", \"may\", \"me\",\n",
    "    \"meanwhile\", \"might\", \"mill\", \"mine\", \"more\", \"moreover\", \"most\", \"mostly\",\n",
    "    \"move\", \"much\", \"must\", \"my\", \"myself\", \"name\", \"namely\", \"neither\",\n",
    "    \"never\", \"nevertheless\", \"next\", \"nine\", \"no\", \"nobody\", \"none\", \"noone\",\n",
    "    \"nor\", \"not\", \"nothing\", \"now\", \"nowhere\", \"of\", \"off\", \"often\", \"on\",\n",
    "    \"once\", \"one\", \"only\", \"onto\", \"or\", \"other\", \"others\", \"otherwise\", \"our\",\n",
    "    \"ours\", \"ourselves\", \"out\", \"over\", \"own\", \"part\", \"per\", \"perhaps\",\n",
    "    \"please\", \"put\", \"rather\", \"re\", \"same\", \"see\", \"seem\", \"seemed\",\n",
    "    \"seeming\", \"seems\", \"serious\", \"several\", \"she\", \"should\", \"show\", \"side\",\n",
    "    \"since\", \"sincere\", \"six\", \"sixty\", \"so\", \"some\", \"somehow\", \"someone\",\n",
    "    \"something\", \"sometime\", \"sometimes\", \"somewhere\", \"still\", \"such\",\n",
    "    \"system\", \"take\", \"ten\", \"than\", \"that\", \"the\", \"their\", \"them\",\n",
    "    \"themselves\", \"then\", \"thence\", \"there\", \"thereafter\", \"thereby\",\n",
    "    \"therefore\", \"therein\", \"thereupon\", \"these\", \"they\", \"thick\", \"thin\",\n",
    "    \"third\", \"this\", \"those\", \"though\", \"three\", \"through\", \"throughout\",\n",
    "    \"thru\", \"thus\", \"to\", \"together\", \"too\", \"top\", \"toward\", \"towards\",\n",
    "    \"twelve\", \"twenty\", \"two\", \"un\", \"under\", \"until\", \"up\", \"upon\", \"us\",\n",
    "    \"very\", \"via\", \"was\", \"we\", \"well\", \"were\", \"what\", \"whatever\", \"when\",\n",
    "    \"whence\", \"whenever\", \"where\", \"whereafter\", \"whereas\", \"whereby\",\n",
    "    \"wherein\", \"whereupon\", \"wherever\", \"whether\", \"which\", \"while\", \"whither\",\n",
    "    \"who\", \"whoever\", \"whole\", \"whom\", \"whose\", \"why\", \"will\", \"with\",\n",
    "    \"within\", \"without\", \"would\", \"yet\", \"you\", \"your\", \"yours\", \"yourself\",\n",
    "\"yourselves\"])\n",
    "\n",
    "\n",
    "def format_for_fastext(X, y, filename):\n",
    "    prefix = '__label__'\n",
    "    f = open(''.join(['data/', filename]), 'w')\n",
    "    for title, label in zip(X, y):\n",
    "        title = title.lower()\n",
    "        tokens = utils.simple_preprocess(title)\n",
    "        tokens = [token for token in tokens if token not in ENGLISH_STOP_WORDS]\n",
    "        f.write(''.join([prefix, str(label), ' ', ' '.join(tokens), '\\n']))\n",
    "    f.close()\n",
    "    \n",
    "format_for_fastext(X_train, y_train, 'reddit_fasttext_train.txt')\n",
    "format_for_fastext(X_val, y_val, 'reddit_fasttext_val.txt')\n",
    "format_for_fastext(X_test, y_test, 'reddit_fasttext_test.txt')"
   ]
  },
  {
   "cell_type": "code",
   "execution_count": 45,
   "metadata": {},
   "outputs": [],
   "source": [
    "def test_fasttext(y, X, classifier, n=1):\n",
    "    match = []\n",
    "    for true, string in zip(y, X):\n",
    "        predictions = list(classifier.predict(string, n)[0])\n",
    "        for i in range(n):\n",
    "            predictions[i] = int(predictions[i].split('__label__')[1])\n",
    "        match.append(int(true in predictions))\n",
    "    return np.array(match)"
   ]
  },
  {
   "cell_type": "code",
   "execution_count": 46,
   "metadata": {},
   "outputs": [
    {
     "data": {
      "text/plain": [
       "0.35417039823273033"
      ]
     },
     "execution_count": 46,
     "metadata": {},
     "output_type": "execute_result"
    }
   ],
   "source": [
    "import fastText as fasttext\n",
    "\n",
    "classifier = fasttext.train_supervised(input='data/reddit_fasttext_train.txt',\n",
    "                                 lr=0.1,\n",
    "                                 epoch=30,\n",
    "                                 dim=64,\n",
    "                                 minn=2,\n",
    "                                 maxn=5\n",
    "                                )\n",
    "\n",
    "correct = test_fasttext(y_val, X_val, classifier)\n",
    "correct.sum() / y_val.size"
   ]
  },
  {
   "cell_type": "code",
   "execution_count": 49,
   "metadata": {},
   "outputs": [],
   "source": [
    "classifier.save_model('models/fasttext.bin')"
   ]
  },
  {
   "cell_type": "code",
   "execution_count": 50,
   "metadata": {},
   "outputs": [],
   "source": [
    "from fastText import load_model\n",
    "\n",
    "classifier = load_model('models/fasttext.bin')"
   ]
  },
  {
   "cell_type": "code",
   "execution_count": 51,
   "metadata": {},
   "outputs": [
    {
     "data": {
      "text/plain": [
       "0.78822616275598545"
      ]
     },
     "execution_count": 51,
     "metadata": {},
     "output_type": "execute_result"
    }
   ],
   "source": [
    "correct = test_fasttext(y_val, X_val, classifier, 10)\n",
    "correct.sum() / y_val.size"
   ]
  },
  {
   "cell_type": "code",
   "execution_count": 52,
   "metadata": {},
   "outputs": [
    {
     "data": {
      "text/plain": [
       "0.66738312735088667"
      ]
     },
     "execution_count": 52,
     "metadata": {},
     "output_type": "execute_result"
    }
   ],
   "source": [
    "correct = test_fasttext(y_val, X_val, classifier, 5)\n",
    "correct.sum() / y_val.size"
   ]
  },
  {
   "cell_type": "code",
   "execution_count": null,
   "metadata": {},
   "outputs": [],
   "source": []
  }
 ],
 "metadata": {
  "kernelspec": {
   "display_name": "Python 3",
   "language": "python",
   "name": "python3"
  },
  "language_info": {
   "codemirror_mode": {
    "name": "ipython",
    "version": 3
   },
   "file_extension": ".py",
   "mimetype": "text/x-python",
   "name": "python",
   "nbconvert_exporter": "python",
   "pygments_lexer": "ipython3",
   "version": "3.5.4"
  }
 },
 "nbformat": 4,
 "nbformat_minor": 1
}
