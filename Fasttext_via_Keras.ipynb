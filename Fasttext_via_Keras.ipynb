{
 "cells": [
  {
   "cell_type": "markdown",
   "metadata": {},
   "source": [
    "# Data Import"
   ]
  },
  {
   "cell_type": "code",
   "execution_count": 164,
   "metadata": {},
   "outputs": [],
   "source": [
    "import pandas as pd\n",
    "import numpy as np\n",
    "\n",
    "data = pd.read_csv('data/cs_subs.csv')  # unzip this file"
   ]
  },
  {
   "cell_type": "code",
   "execution_count": 166,
   "metadata": {},
   "outputs": [
    {
     "name": "stdout",
     "output_type": "stream",
     "text": [
      "Number of unique subreddits: 136\n"
     ]
    }
   ],
   "source": [
    "print('Number of unique subreddits:', len(data['subreddit'].unique()))"
   ]
  },
  {
   "cell_type": "code",
   "execution_count": 167,
   "metadata": {},
   "outputs": [
    {
     "name": "stdout",
     "output_type": "stream",
     "text": [
      "Total # of posts: (624289, 3)\n"
     ]
    }
   ],
   "source": [
    "print('Total # of posts:', data.shape)"
   ]
  },
  {
   "cell_type": "code",
   "execution_count": 169,
   "metadata": {},
   "outputs": [
    {
     "name": "stdout",
     "output_type": "stream",
     "text": [
      "Number of posts after dropping null values: (624281, 3)\n"
     ]
    }
   ],
   "source": [
    "print('Number of posts after dropping null values:', data.dropna().shape)"
   ]
  },
  {
   "cell_type": "code",
   "execution_count": 170,
   "metadata": {},
   "outputs": [],
   "source": [
    "data = data.dropna()"
   ]
  },
  {
   "cell_type": "markdown",
   "metadata": {},
   "source": [
    "###### Looking at the number of posts per subreddit"
   ]
  },
  {
   "cell_type": "code",
   "execution_count": 34,
   "metadata": {},
   "outputs": [
    {
     "data": {
      "text/plain": [
       "Android                61202\n",
       "learnprogramming       35288\n",
       "cscareerquestions      32935\n",
       "Windows10              27726\n",
       "webdev                 26849\n",
       "dataisbeautiful        24388\n",
       "softwaregore           23741\n",
       "web_design             22159\n",
       "ProgrammerHumor        19206\n",
       "learnpython            17634\n",
       "raspberry_pi           15659\n",
       "iOSBeta                14508\n",
       "linux                  14058\n",
       "javascript             12971\n",
       "linuxquestions         11464\n",
       "hackernews             11134\n",
       "Python                 11119\n",
       "windows                10132\n",
       "androiddev             10130\n",
       "mac                     9841\n",
       "ios                     9754\n",
       "arduino                 9603\n",
       "java                    9401\n",
       "networking              9378\n",
       "linux4noobs             8004\n",
       "androidthemes           7895\n",
       "chrome                  5862\n",
       "iOSProgramming          5647\n",
       "rust                    5489\n",
       "datascience             5374\n",
       "                       ...  \n",
       "redis                    241\n",
       "dartlang                 240\n",
       "programmerreactions      237\n",
       "Julia                    217\n",
       "reviewmycode             216\n",
       "zsh                      210\n",
       "OSXTweaks                198\n",
       "erlang                   186\n",
       "MaterialDesign           179\n",
       "d3js                     179\n",
       "npm                      164\n",
       "c_language               143\n",
       "learnphp                 120\n",
       "Heroku                   118\n",
       "dailyprogrammer          114\n",
       "cakephp                  113\n",
       "learnruby                106\n",
       "mariadb                   95\n",
       "tinycode                  93\n",
       "groovy                    90\n",
       "pythoncoding              88\n",
       "vagrant                   77\n",
       "Cprog                     38\n",
       "androiddesign             36\n",
       "osxterminal               31\n",
       "learnlaravel              28\n",
       "haskelltil                24\n",
       "shell                     24\n",
       "AskCompSci                17\n",
       "dotfiles                  17\n",
       "Name: subreddit, Length: 136, dtype: int64"
      ]
     },
     "execution_count": 34,
     "metadata": {},
     "output_type": "execute_result"
    }
   ],
   "source": [
    "data['subreddit'].value_counts()"
   ]
  },
  {
   "cell_type": "markdown",
   "metadata": {},
   "source": [
    "##### Sampling data"
   ]
  },
  {
   "cell_type": "code",
   "execution_count": 35,
   "metadata": {},
   "outputs": [
    {
     "data": {
      "text/html": [
       "<div>\n",
       "<style scoped>\n",
       "    .dataframe tbody tr th:only-of-type {\n",
       "        vertical-align: middle;\n",
       "    }\n",
       "\n",
       "    .dataframe tbody tr th {\n",
       "        vertical-align: top;\n",
       "    }\n",
       "\n",
       "    .dataframe thead th {\n",
       "        text-align: right;\n",
       "    }\n",
       "</style>\n",
       "<table border=\"1\" class=\"dataframe\">\n",
       "  <thead>\n",
       "    <tr style=\"text-align: right;\">\n",
       "      <th></th>\n",
       "      <th>title</th>\n",
       "      <th>score</th>\n",
       "      <th>subreddit</th>\n",
       "    </tr>\n",
       "  </thead>\n",
       "  <tbody>\n",
       "    <tr>\n",
       "      <th>277178</th>\n",
       "      <td>Copy selected text to clipboard and paste it i...</td>\n",
       "      <td>2</td>\n",
       "      <td>learnpython</td>\n",
       "    </tr>\n",
       "    <tr>\n",
       "      <th>358274</th>\n",
       "      <td>My Best JavaScript Learning Resources</td>\n",
       "      <td>1</td>\n",
       "      <td>javascript</td>\n",
       "    </tr>\n",
       "    <tr>\n",
       "      <th>246508</th>\n",
       "      <td>Why am I printing an extra newline?</td>\n",
       "      <td>2</td>\n",
       "      <td>learnpython</td>\n",
       "    </tr>\n",
       "    <tr>\n",
       "      <th>84413</th>\n",
       "      <td>IT Managed Services Georgia</td>\n",
       "      <td>1</td>\n",
       "      <td>softwaredevelopment</td>\n",
       "    </tr>\n",
       "    <tr>\n",
       "      <th>472977</th>\n",
       "      <td>Google Maps High Memory Usage</td>\n",
       "      <td>1</td>\n",
       "      <td>Android</td>\n",
       "    </tr>\n",
       "    <tr>\n",
       "      <th>325749</th>\n",
       "      <td>Is there a Chrome extension that can clean up ...</td>\n",
       "      <td>2</td>\n",
       "      <td>chrome</td>\n",
       "    </tr>\n",
       "    <tr>\n",
       "      <th>108572</th>\n",
       "      <td>I know the basics of Javascript, HTML, CSS. I'...</td>\n",
       "      <td>2</td>\n",
       "      <td>learnprogramming</td>\n",
       "    </tr>\n",
       "    <tr>\n",
       "      <th>48704</th>\n",
       "      <td>E-commerce website development</td>\n",
       "      <td>1</td>\n",
       "      <td>webdev</td>\n",
       "    </tr>\n",
       "    <tr>\n",
       "      <th>585244</th>\n",
       "      <td>Samsung 8, LG 6 or Pixel?</td>\n",
       "      <td>1</td>\n",
       "      <td>Android</td>\n",
       "    </tr>\n",
       "    <tr>\n",
       "      <th>117937</th>\n",
       "      <td>Hypermac concert cable to USB c</td>\n",
       "      <td>1</td>\n",
       "      <td>mac</td>\n",
       "    </tr>\n",
       "  </tbody>\n",
       "</table>\n",
       "</div>"
      ],
      "text/plain": [
       "                                                    title  score  \\\n",
       "277178  Copy selected text to clipboard and paste it i...      2   \n",
       "358274              My Best JavaScript Learning Resources      1   \n",
       "246508                Why am I printing an extra newline?      2   \n",
       "84413                         IT Managed Services Georgia      1   \n",
       "472977                      Google Maps High Memory Usage      1   \n",
       "325749  Is there a Chrome extension that can clean up ...      2   \n",
       "108572  I know the basics of Javascript, HTML, CSS. I'...      2   \n",
       "48704                      E-commerce website development      1   \n",
       "585244                          Samsung 8, LG 6 or Pixel?      1   \n",
       "117937                    Hypermac concert cable to USB c      1   \n",
       "\n",
       "                  subreddit  \n",
       "277178          learnpython  \n",
       "358274           javascript  \n",
       "246508          learnpython  \n",
       "84413   softwaredevelopment  \n",
       "472977              Android  \n",
       "325749               chrome  \n",
       "108572     learnprogramming  \n",
       "48704                webdev  \n",
       "585244              Android  \n",
       "117937                  mac  "
      ]
     },
     "execution_count": 35,
     "metadata": {},
     "output_type": "execute_result"
    }
   ],
   "source": [
    "data.sample(10)"
   ]
  },
  {
   "cell_type": "markdown",
   "metadata": {},
   "source": [
    "##### We are filtering out subreddits that have less than 150 posts. "
   ]
  },
  {
   "cell_type": "code",
   "execution_count": 36,
   "metadata": {},
   "outputs": [],
   "source": [
    "counts = data['subreddit'].value_counts()\n",
    "counts = counts[counts > 150]"
   ]
  },
  {
   "cell_type": "code",
   "execution_count": 37,
   "metadata": {},
   "outputs": [],
   "source": [
    "top_values = list(counts.index)\n",
    "data = data[data['subreddit'].isin(top_values)]"
   ]
  },
  {
   "cell_type": "code",
   "execution_count": 38,
   "metadata": {},
   "outputs": [
    {
     "data": {
      "text/plain": [
       "Android                61202\n",
       "learnprogramming       35288\n",
       "cscareerquestions      32935\n",
       "Windows10              27726\n",
       "webdev                 26849\n",
       "dataisbeautiful        24388\n",
       "softwaregore           23741\n",
       "web_design             22159\n",
       "ProgrammerHumor        19206\n",
       "learnpython            17634\n",
       "raspberry_pi           15659\n",
       "iOSBeta                14508\n",
       "linux                  14058\n",
       "javascript             12971\n",
       "linuxquestions         11464\n",
       "hackernews             11134\n",
       "Python                 11119\n",
       "windows                10132\n",
       "androiddev             10130\n",
       "mac                     9841\n",
       "ios                     9754\n",
       "arduino                 9603\n",
       "java                    9401\n",
       "networking              9378\n",
       "linux4noobs             8004\n",
       "androidthemes           7895\n",
       "chrome                  5862\n",
       "iOSProgramming          5647\n",
       "rust                    5489\n",
       "datascience             5374\n",
       "                       ...  \n",
       "windowsinsiders          683\n",
       "jquery                   667\n",
       "operabrowser             647\n",
       "browsers                 586\n",
       "watchOSBeta              581\n",
       "LanguageTechnology       528\n",
       "macapps                  526\n",
       "mongodb                  507\n",
       "rubyonrails              455\n",
       "itsaunixsystem           449\n",
       "djangolearning           428\n",
       "nginx                    420\n",
       "haskellquestions         394\n",
       "lua                      363\n",
       "symfony                  357\n",
       "windows8                 334\n",
       "cprogramming             328\n",
       "Meteor                   316\n",
       "DatabaseHelp             312\n",
       "redis                    241\n",
       "dartlang                 240\n",
       "programmerreactions      237\n",
       "Julia                    217\n",
       "reviewmycode             216\n",
       "zsh                      210\n",
       "OSXTweaks                198\n",
       "erlang                   186\n",
       "d3js                     179\n",
       "MaterialDesign           179\n",
       "npm                      164\n",
       "Name: subreddit, Length: 117, dtype: int64"
      ]
     },
     "execution_count": 38,
     "metadata": {},
     "output_type": "execute_result"
    }
   ],
   "source": [
    "data['subreddit'].value_counts()"
   ]
  },
  {
   "cell_type": "code",
   "execution_count": 39,
   "metadata": {},
   "outputs": [
    {
     "data": {
      "text/plain": [
       "(622909, 3)"
      ]
     },
     "execution_count": 39,
     "metadata": {},
     "output_type": "execute_result"
    }
   ],
   "source": [
    "data.shape"
   ]
  },
  {
   "cell_type": "code",
   "execution_count": 40,
   "metadata": {},
   "outputs": [
    {
     "data": {
      "text/plain": [
       "(117,)"
      ]
     },
     "execution_count": 40,
     "metadata": {},
     "output_type": "execute_result"
    }
   ],
   "source": [
    "data['subreddit'].unique().shape"
   ]
  },
  {
   "cell_type": "markdown",
   "metadata": {},
   "source": [
    "We have a lot of data. Especially for my Macbook. Let's see the average reddit score (upvotes + downvotes) for each subreddit to filter out. I want to do mean and not median since median would just arbitrarily cut the data in half. Hopefully filtering by mean will take relatively larger chunks out of the more popular subreddits than the less popular ones."
   ]
  },
  {
   "cell_type": "code",
   "execution_count": 41,
   "metadata": {},
   "outputs": [],
   "source": [
    "means = {}\n",
    "for subreddit in data['subreddit'].unique():\n",
    "    means[subreddit] = data[data['subreddit'] == subreddit]['score'].mean()"
   ]
  },
  {
   "cell_type": "code",
   "execution_count": 46,
   "metadata": {},
   "outputs": [],
   "source": [
    "import numpy as np\n",
    "\n",
    "\n",
    "filtered = []\n",
    "\n",
    "for subreddit in data['subreddit'].unique():\n",
    "    filtered.append(data.loc[(data['subreddit'] == subreddit) & (data['score'] >= means[subreddit])])"
   ]
  },
  {
   "cell_type": "code",
   "execution_count": 47,
   "metadata": {},
   "outputs": [],
   "source": [
    "filtered_data = pd.concat(filtered)"
   ]
  },
  {
   "cell_type": "code",
   "execution_count": 48,
   "metadata": {},
   "outputs": [
    {
     "data": {
      "text/plain": [
       "Android                6807\n",
       "linuxquestions         3893\n",
       "cscareerquestions      3772\n",
       "learnpython            3081\n",
       "webdev                 2565\n",
       "hackernews             2563\n",
       "iOSBeta                2424\n",
       "Windows10              2338\n",
       "linux4noobs            2275\n",
       "ProgrammerHumor        2194\n",
       "networking             2174\n",
       "androiddev             2026\n",
       "linux                  2013\n",
       "windows                2005\n",
       "javascript             1880\n",
       "learnprogramming       1813\n",
       "softwaregore           1746\n",
       "ios                    1737\n",
       "java                   1672\n",
       "androidthemes          1664\n",
       "chrome                 1548\n",
       "Python                 1474\n",
       "aws                    1471\n",
       "rust                   1466\n",
       "web_design             1361\n",
       "javahelp               1326\n",
       "arduino                1205\n",
       "iOSProgramming         1190\n",
       "mac                    1150\n",
       "csshelp                1101\n",
       "                       ... \n",
       "operabrowser            221\n",
       "mongodb                 197\n",
       "macapps                 189\n",
       "windowsinsiders         189\n",
       "LanguageTechnology      181\n",
       "softwaredevelopment     178\n",
       "djangolearning          173\n",
       "watchOSBeta             149\n",
       "browsers                142\n",
       "itsaunixsystem          138\n",
       "symfony                 124\n",
       "lua                     121\n",
       "nginx                   120\n",
       "windows8                119\n",
       "rubyonrails             117\n",
       "haskellquestions        117\n",
       "programmerreactions     117\n",
       "dartlang                103\n",
       "Meteor                  101\n",
       "redis                    86\n",
       "Julia                    82\n",
       "npm                      74\n",
       "erlang                   72\n",
       "zsh                      69\n",
       "OSXTweaks                67\n",
       "DatabaseHelp             59\n",
       "MaterialDesign           51\n",
       "d3js                     49\n",
       "cprogramming             48\n",
       "reviewmycode             44\n",
       "Name: subreddit, Length: 117, dtype: int64"
      ]
     },
     "execution_count": 48,
     "metadata": {},
     "output_type": "execute_result"
    }
   ],
   "source": [
    "filtered_data['subreddit'].value_counts()"
   ]
  },
  {
   "cell_type": "code",
   "execution_count": 49,
   "metadata": {},
   "outputs": [
    {
     "data": {
      "text/plain": [
       "(99057, 3)"
      ]
     },
     "execution_count": 49,
     "metadata": {},
     "output_type": "execute_result"
    }
   ],
   "source": [
    "filtered_data.shape"
   ]
  },
  {
   "cell_type": "code",
   "execution_count": 50,
   "metadata": {},
   "outputs": [
    {
     "data": {
      "text/plain": [
       "(98941, 3)"
      ]
     },
     "execution_count": 50,
     "metadata": {},
     "output_type": "execute_result"
    }
   ],
   "source": [
    "filtered_data.drop_duplicates().shape"
   ]
  },
  {
   "cell_type": "code",
   "execution_count": 51,
   "metadata": {},
   "outputs": [],
   "source": [
    "filtered_data = filtered_data.drop_duplicates()"
   ]
  },
  {
   "cell_type": "code",
   "execution_count": 52,
   "metadata": {},
   "outputs": [
    {
     "data": {
      "text/html": [
       "<div>\n",
       "<style scoped>\n",
       "    .dataframe tbody tr th:only-of-type {\n",
       "        vertical-align: middle;\n",
       "    }\n",
       "\n",
       "    .dataframe tbody tr th {\n",
       "        vertical-align: top;\n",
       "    }\n",
       "\n",
       "    .dataframe thead th {\n",
       "        text-align: right;\n",
       "    }\n",
       "</style>\n",
       "<table border=\"1\" class=\"dataframe\">\n",
       "  <thead>\n",
       "    <tr style=\"text-align: right;\">\n",
       "      <th></th>\n",
       "      <th>title</th>\n",
       "      <th>score</th>\n",
       "      <th>subreddit</th>\n",
       "    </tr>\n",
       "  </thead>\n",
       "  <tbody>\n",
       "    <tr>\n",
       "      <th>40902</th>\n",
       "      <td>App Transport Security app approval exemption</td>\n",
       "      <td>11</td>\n",
       "      <td>iOSProgramming</td>\n",
       "    </tr>\n",
       "    <tr>\n",
       "      <th>590511</th>\n",
       "      <td>Bad Parameter Sniffing Decision Flow Chart</td>\n",
       "      <td>6</td>\n",
       "      <td>SQLServer</td>\n",
       "    </tr>\n",
       "    <tr>\n",
       "      <th>95569</th>\n",
       "      <td>Tesla Passes Ford by Market Value</td>\n",
       "      <td>7</td>\n",
       "      <td>hackernews</td>\n",
       "    </tr>\n",
       "    <tr>\n",
       "      <th>443359</th>\n",
       "      <td>GNU Personal Expense Manager</td>\n",
       "      <td>13</td>\n",
       "      <td>linux4noobs</td>\n",
       "    </tr>\n",
       "    <tr>\n",
       "      <th>122426</th>\n",
       "      <td>PHP Traits…a wonderful home for shared Laravel...</td>\n",
       "      <td>22</td>\n",
       "      <td>laravel</td>\n",
       "    </tr>\n",
       "    <tr>\n",
       "      <th>461628</th>\n",
       "      <td>Node v8.5.0 (Current)</td>\n",
       "      <td>42</td>\n",
       "      <td>node</td>\n",
       "    </tr>\n",
       "    <tr>\n",
       "      <th>613160</th>\n",
       "      <td>Collectively – an open platform to enhance com...</td>\n",
       "      <td>30</td>\n",
       "      <td>opensource</td>\n",
       "    </tr>\n",
       "    <tr>\n",
       "      <th>523967</th>\n",
       "      <td>Gigabit Router/Firewall for Small Business</td>\n",
       "      <td>10</td>\n",
       "      <td>networking</td>\n",
       "    </tr>\n",
       "    <tr>\n",
       "      <th>523467</th>\n",
       "      <td>HTTPS: Private Keys on Web Servers</td>\n",
       "      <td>18</td>\n",
       "      <td>crypto</td>\n",
       "    </tr>\n",
       "    <tr>\n",
       "      <th>149315</th>\n",
       "      <td>Painting my room with WebVR</td>\n",
       "      <td>49</td>\n",
       "      <td>webdev</td>\n",
       "    </tr>\n",
       "    <tr>\n",
       "      <th>329628</th>\n",
       "      <td>[DEV] \"Now Playing\" History - I've developed a...</td>\n",
       "      <td>236</td>\n",
       "      <td>Android</td>\n",
       "    </tr>\n",
       "    <tr>\n",
       "      <th>585051</th>\n",
       "      <td>A chat bubble appeared on the lock screen. Do ...</td>\n",
       "      <td>49</td>\n",
       "      <td>Windows10</td>\n",
       "    </tr>\n",
       "    <tr>\n",
       "      <th>588702</th>\n",
       "      <td>[Feature] Happened while updating to beta 6</td>\n",
       "      <td>76</td>\n",
       "      <td>iOSBeta</td>\n",
       "    </tr>\n",
       "    <tr>\n",
       "      <th>536926</th>\n",
       "      <td>Building a Windows 10 IoT C# traffic monitor</td>\n",
       "      <td>24</td>\n",
       "      <td>csharp</td>\n",
       "    </tr>\n",
       "    <tr>\n",
       "      <th>159021</th>\n",
       "      <td>tl; dr Memory Precedence</td>\n",
       "      <td>8</td>\n",
       "      <td>learnpython</td>\n",
       "    </tr>\n",
       "    <tr>\n",
       "      <th>570625</th>\n",
       "      <td>capacity not available vs. capacity oversubscr...</td>\n",
       "      <td>8</td>\n",
       "      <td>aws</td>\n",
       "    </tr>\n",
       "    <tr>\n",
       "      <th>270483</th>\n",
       "      <td>Nuitka Release 0.5.28</td>\n",
       "      <td>45</td>\n",
       "      <td>Python</td>\n",
       "    </tr>\n",
       "    <tr>\n",
       "      <th>70745</th>\n",
       "      <td>Rust: confident, productive systems programmin...</td>\n",
       "      <td>56</td>\n",
       "      <td>rust</td>\n",
       "    </tr>\n",
       "    <tr>\n",
       "      <th>26506</th>\n",
       "      <td>Virtual machines and GPU pass-through questions?</td>\n",
       "      <td>5</td>\n",
       "      <td>linuxquestions</td>\n",
       "    </tr>\n",
       "    <tr>\n",
       "      <th>91508</th>\n",
       "      <td>Inconsistency in the Start menu tiles</td>\n",
       "      <td>16</td>\n",
       "      <td>Windows10</td>\n",
       "    </tr>\n",
       "  </tbody>\n",
       "</table>\n",
       "</div>"
      ],
      "text/plain": [
       "                                                    title  score  \\\n",
       "40902       App Transport Security app approval exemption     11   \n",
       "590511         Bad Parameter Sniffing Decision Flow Chart      6   \n",
       "95569                   Tesla Passes Ford by Market Value      7   \n",
       "443359                       GNU Personal Expense Manager     13   \n",
       "122426  PHP Traits…a wonderful home for shared Laravel...     22   \n",
       "461628                              Node v8.5.0 (Current)     42   \n",
       "613160  Collectively – an open platform to enhance com...     30   \n",
       "523967         Gigabit Router/Firewall for Small Business     10   \n",
       "523467                 HTTPS: Private Keys on Web Servers     18   \n",
       "149315                        Painting my room with WebVR     49   \n",
       "329628  [DEV] \"Now Playing\" History - I've developed a...    236   \n",
       "585051  A chat bubble appeared on the lock screen. Do ...     49   \n",
       "588702        [Feature] Happened while updating to beta 6     76   \n",
       "536926       Building a Windows 10 IoT C# traffic monitor     24   \n",
       "159021                           tl; dr Memory Precedence      8   \n",
       "570625  capacity not available vs. capacity oversubscr...      8   \n",
       "270483                              Nuitka Release 0.5.28     45   \n",
       "70745   Rust: confident, productive systems programmin...     56   \n",
       "26506    Virtual machines and GPU pass-through questions?      5   \n",
       "91508               Inconsistency in the Start menu tiles     16   \n",
       "\n",
       "             subreddit  \n",
       "40902   iOSProgramming  \n",
       "590511       SQLServer  \n",
       "95569       hackernews  \n",
       "443359     linux4noobs  \n",
       "122426         laravel  \n",
       "461628            node  \n",
       "613160      opensource  \n",
       "523967      networking  \n",
       "523467          crypto  \n",
       "149315          webdev  \n",
       "329628         Android  \n",
       "585051       Windows10  \n",
       "588702         iOSBeta  \n",
       "536926          csharp  \n",
       "159021     learnpython  \n",
       "570625             aws  \n",
       "270483          Python  \n",
       "70745             rust  \n",
       "26506   linuxquestions  \n",
       "91508        Windows10  "
      ]
     },
     "execution_count": 52,
     "metadata": {},
     "output_type": "execute_result"
    }
   ],
   "source": [
    "filtered_data.sample(20)"
   ]
  },
  {
   "cell_type": "code",
   "execution_count": 54,
   "metadata": {},
   "outputs": [],
   "source": [
    "X = filtered_data['title']\n",
    "y = filtered_data['subreddit']"
   ]
  },
  {
   "cell_type": "markdown",
   "metadata": {},
   "source": [
    "Adapted from https://github.com/keras-team/keras/blob/master/examples/imdb_fasttext.py"
   ]
  },
  {
   "cell_type": "code",
   "execution_count": 159,
   "metadata": {},
   "outputs": [],
   "source": [
    "from sklearn.preprocessing import LabelBinarizer, LabelEncoder\n",
    "from keras.preprocessing.text import Tokenizer\n",
    "from keras.preprocessing import sequence\n",
    "\n",
    "\n",
    "def create_ngram_set(input_list, ngram_value=2):\n",
    "    \"\"\"\n",
    "    Extract a set of n-grams from a list of integers.\n",
    "    >>> create_ngram_set([1, 4, 9, 4, 1, 4], ngram_value=2)\n",
    "    {(4, 9), (4, 1), (1, 4), (9, 4)}\n",
    "    >>> create_ngram_set([1, 4, 9, 4, 1, 4], ngram_value=3)\n",
    "    [(1, 4, 9), (4, 9, 4), (9, 4, 1), (4, 1, 4)]\n",
    "    \"\"\"\n",
    "    return set(zip(*[input_list[i:] for i in range(ngram_value)]))\n",
    "\n",
    "def add_ngram(sequences, token_indice, ngram_range=2):\n",
    "    \"\"\"\n",
    "    Augment the input list of list (sequences) by appending n-grams values.\n",
    "    Example: adding bi-gram\n",
    "    >>> sequences = [[1, 3, 4, 5], [1, 3, 7, 9, 2]]\n",
    "    >>> token_indice = {(1, 3): 1337, (9, 2): 42, (4, 5): 2017}\n",
    "    >>> add_ngram(sequences, token_indice, ngram_range=2)\n",
    "    [[1, 3, 4, 5, 1337, 2017], [1, 3, 7, 9, 2, 1337, 42]]\n",
    "    Example: adding tri-gram\n",
    "    >>> sequences = [[1, 3, 4, 5], [1, 3, 7, 9, 2]]\n",
    "    >>> token_indice = {(1, 3): 1337, (9, 2): 42, (4, 5): 2017, (7, 9, 2): 2018}\n",
    "    >>> add_ngram(sequences, token_indice, ngram_range=3)\n",
    "    [[1, 3, 4, 5, 1337], [1, 3, 7, 9, 2, 1337, 2018]]\n",
    "    \"\"\"\n",
    "    new_sequences = []\n",
    "    for input_list in sequences:\n",
    "        new_list = input_list[:]\n",
    "        for i in range(len(new_list) - ngram_range + 1):\n",
    "            for ngram_value in range(2, ngram_range + 1):\n",
    "                ngram = tuple(new_list[i:i + ngram_value])\n",
    "                if ngram in token_indice:\n",
    "                    new_list.append(token_indice[ngram])\n",
    "        new_sequences.append(new_list)\n",
    "\n",
    "    return new_sequences\n",
    "\n",
    "def create_indices(X, ngram_range, max_features):\n",
    "    ngram_set = set()\n",
    "    for input_list in X:\n",
    "        for i in range(2, ngram_range + 1):\n",
    "            set_of_ngram = create_ngram_set(input_list, ngram_value=i)\n",
    "            ngram_set.update(set_of_ngram)\n",
    "\n",
    "\n",
    "    start_index = max_features + 1\n",
    "    token_indice = {v: k + start_index for k, v in enumerate(ngram_set)}\n",
    "    indice_token = {token_indice[k]: k for k in token_indice}\n",
    "\n",
    "    max_features = np.max(list(indice_token.keys())) + 1\n",
    "        \n",
    "    return token_indice, max_features\n",
    "\n",
    "def preprocess(X, y, train=False, ngram_range=2, max_len=30, max_features=1000, **kwargs):\n",
    "    \n",
    "    if train:\n",
    "        tokenizer = Tokenizer(num_words=max_features)\n",
    "        tokenizer.fit_on_texts(X)\n",
    "        \n",
    "        label_encoder = LabelEncoder()\n",
    "        label_encoder.fit(y)\n",
    "        \n",
    "        label_binarizer = LabelBinarizer()\n",
    "        label_binarizer.fit(y)\n",
    "        \n",
    "        token_indice = None\n",
    "    else:\n",
    "        tokenizer = kwargs['tokenizer']\n",
    "        label_encoder = kwargs['label_encoder']\n",
    "        label_binarizer = kwargs['label_binarizer']\n",
    "\n",
    "    X = tokenizer.texts_to_sequences(X)\n",
    "    y = label_encoder.transform(y)\n",
    "    y = label_binarizer.transform(y)\n",
    "    \n",
    "    if ngram_range > 1:\n",
    "        if train:\n",
    "            token_indice, max_features = create_indices(X, ngram_range, max_features)\n",
    "        else:\n",
    "            token_indice = kwargs['token_indice']\n",
    "        \n",
    "        X = add_ngram(X, token_indice, ngram_range)\n",
    "        \n",
    "    X = sequence.pad_sequences(X, maxlen=max_len)\n",
    "    \n",
    "    if train:\n",
    "        return X, y, tokenizer, label_encoder, label_binarizer, token_indice, max_features\n",
    "    return X, y"
   ]
  },
  {
   "cell_type": "markdown",
   "metadata": {},
   "source": [
    "##### Splitting data into train (60%), val (20%), and test (20%) and preprocessing"
   ]
  },
  {
   "cell_type": "code",
   "execution_count": 163,
   "metadata": {},
   "outputs": [
    {
     "name": "stdout",
     "output_type": "stream",
     "text": [
      "(59364,)\n",
      "(19788,)\n",
      "(19789,)\n",
      "(59364,)\n",
      "(19788,)\n",
      "(19789,)\n",
      "max_features: 93679\n"
     ]
    }
   ],
   "source": [
    "from sklearn.model_selection import train_test_split\n",
    "import pickle\n",
    "\n",
    "X_train, X_test, y_train, y_test = train_test_split(X, y, test_size=0.4, random_state=17)\n",
    "X_test, X_val, y_test, y_val = train_test_split(X_test, y_test, test_size=0.5, random_state=31)\n",
    "print(X_train.shape)\n",
    "print(X_test.shape)\n",
    "print(X_val.shape)\n",
    "print(y_train.shape)\n",
    "print(y_test.shape)\n",
    "print(y_val.shape)\n",
    "\n",
    "ngram_range = 2\n",
    "max_features = 1000\n",
    "max_len = 20\n",
    "\n",
    "X_train, y_train, tokenizer, label_encoder, label_binarizer, token_indice, max_features = preprocess(\n",
    "    X_train, y_train, train=True, ngram_range=ngram_range, max_features=max_features, max_len=max_len)\n",
    "\n",
    "processors = {\n",
    "    'tokenizer': tokenizer,\n",
    "    'label_binarizer': label_binarizer,\n",
    "    'label_encoder': label_encoder,\n",
    "    'token_indice': token_indice\n",
    "}\n",
    "\n",
    "X_val, y_val = preprocess(\n",
    "    X_val, y_val, ngram_range=ngram_range, max_len=max_len, **processors)\n",
    "\n",
    "X_test, y_test = preprocess(\n",
    "    X_test, y_test, ngram_range=ngram_range, max_len=max_len, **processors)\n",
    "\n",
    "print('max_features:', max_features)"
   ]
  },
  {
   "cell_type": "code",
   "execution_count": 156,
   "metadata": {
    "scrolled": false
   },
   "outputs": [
    {
     "name": "stdout",
     "output_type": "stream",
     "text": [
      "Train on 59364 samples, validate on 19789 samples\n",
      "Epoch 1/1000\n",
      "59364/59364 [==============================] - 45s 758us/step - loss: 4.3470 - acc: 0.0694 - val_loss: 4.1741 - val_acc: 0.0695\n",
      "Epoch 2/1000\n",
      "59364/59364 [==============================] - 43s 718us/step - loss: 4.0048 - acc: 0.1070 - val_loss: 3.8438 - val_acc: 0.1594\n",
      "Epoch 3/1000\n",
      "59364/59364 [==============================] - 42s 715us/step - loss: 3.6045 - acc: 0.2211 - val_loss: 3.4853 - val_acc: 0.2533\n",
      "Epoch 4/1000\n",
      "59364/59364 [==============================] - 44s 745us/step - loss: 3.1993 - acc: 0.3162 - val_loss: 3.1824 - val_acc: 0.3154\n",
      "Epoch 5/1000\n",
      "59364/59364 [==============================] - 44s 738us/step - loss: 2.8571 - acc: 0.3867 - val_loss: 2.9666 - val_acc: 0.3556\n",
      "Epoch 6/1000\n",
      "59364/59364 [==============================] - 43s 729us/step - loss: 2.5938 - acc: 0.4396 - val_loss: 2.8248 - val_acc: 0.3749\n",
      "Epoch 7/1000\n",
      "59364/59364 [==============================] - 42s 714us/step - loss: 2.3866 - acc: 0.4756 - val_loss: 2.7299 - val_acc: 0.3862\n",
      "Epoch 8/1000\n",
      "59364/59364 [==============================] - 46s 770us/step - loss: 2.2136 - acc: 0.5079 - val_loss: 2.6639 - val_acc: 0.3933\n",
      "Epoch 9/1000\n",
      "59364/59364 [==============================] - 34s 572us/step - loss: 2.0624 - acc: 0.5377 - val_loss: 2.6180 - val_acc: 0.4005\n",
      "Epoch 10/1000\n",
      "59364/59364 [==============================] - 34s 574us/step - loss: 1.9265 - acc: 0.5669 - val_loss: 2.5857 - val_acc: 0.4038\n",
      "Epoch 11/1000\n",
      "59364/59364 [==============================] - 35s 586us/step - loss: 1.8011 - acc: 0.5971 - val_loss: 2.5643 - val_acc: 0.4086\n",
      "Epoch 12/1000\n",
      "59364/59364 [==============================] - 43s 730us/step - loss: 1.6849 - acc: 0.6244 - val_loss: 2.5521 - val_acc: 0.4062\n",
      "Epoch 13/1000\n",
      "59364/59364 [==============================] - 34s 570us/step - loss: 1.5766 - acc: 0.6499 - val_loss: 2.5479 - val_acc: 0.4072\n",
      "Epoch 14/1000\n",
      "59364/59364 [==============================] - 41s 696us/step - loss: 1.4758 - acc: 0.6740 - val_loss: 2.5461 - val_acc: 0.4100\n",
      "Epoch 15/1000\n",
      "59364/59364 [==============================] - 43s 731us/step - loss: 1.3820 - acc: 0.6955 - val_loss: 2.5537 - val_acc: 0.4084\n",
      "Epoch 16/1000\n",
      "59364/59364 [==============================] - 45s 751us/step - loss: 1.2948 - acc: 0.7161 - val_loss: 2.5631 - val_acc: 0.4084\n"
     ]
    },
    {
     "data": {
      "text/plain": [
       "<keras.callbacks.History at 0x1a22a86c88>"
      ]
     },
     "execution_count": 156,
     "metadata": {},
     "output_type": "execute_result"
    }
   ],
   "source": [
    "from keras.models import Sequential\n",
    "from keras.layers import Dense\n",
    "from keras.layers import Embedding\n",
    "from keras.layers import GlobalAveragePooling1D\n",
    "from keras import callbacks\n",
    "import keras.backend as K\n",
    "\n",
    "batch_size = 64\n",
    "embedding_dims = 30\n",
    "epochs = 1000\n",
    "\n",
    "model = Sequential()\n",
    "\n",
    "model.add(Embedding(max_features, embedding_dims, input_length=X_train.shape[1]))\n",
    "model.add(GlobalAveragePooling1D())\n",
    "model.add(Dense(y_train.shape[1], activation='softmax'))\n",
    "\n",
    "model.compile(loss='categorical_crossentropy',\n",
    "              optimizer='adam',\n",
    "              metrics=['accuracy'])\n",
    "\n",
    "# Callbacks\n",
    "early_stopping = callbacks.EarlyStopping(monitor='val_loss', \n",
    "                                         min_delta=0.001,\n",
    "                                         patience=2,\n",
    "                                         mode='min')\n",
    "\n",
    "get_best = callbacks.ModelCheckpoint(monitor='val_loss',\n",
    "                                     filepath='models/keras_fasttext.hdf5',\n",
    "                                     save_best_only=True)\n",
    "\n",
    "reduce_lr = callbacks.ReduceLROnPlateau(monitor='val_loss',\n",
    "                                        factor=0.0001,\n",
    "                                        min_lr=0.001)\n",
    "\n",
    "model.fit(X_train, y_train,\n",
    "          batch_size=batch_size,\n",
    "          epochs=epochs,\n",
    "          callbacks=[early_stopping, get_best, reduce_lr],\n",
    "          validation_data=[X_val, y_val])"
   ]
  },
  {
   "cell_type": "code",
   "execution_count": 137,
   "metadata": {},
   "outputs": [],
   "source": [
    "import numpy as np\n",
    "from sklearn.metrics import accuracy_score\n",
    "from sklearn.metrics import classification_report\n",
    "\n",
    "\n",
    "def top_n_accuracy(y_true, probs, n=5):\n",
    "    top_n_list = []\n",
    "    for prob in probs:\n",
    "        top_n_list.append(np.argsort(-prob)[:n])\n",
    "    predictions = []\n",
    "    for prediction, top_n in zip(y_true, top_n_list):\n",
    "        predictions.append(int(prediction in top_n))\n",
    "    return np.sum(predictions) / y_true.shape[0]"
   ]
  },
  {
   "cell_type": "code",
   "execution_count": null,
   "metadata": {},
   "outputs": [],
   "source": []
  }
 ],
 "metadata": {
  "kernelspec": {
   "display_name": "Python 3",
   "language": "python",
   "name": "python3"
  },
  "language_info": {
   "codemirror_mode": {
    "name": "ipython",
    "version": 3
   },
   "file_extension": ".py",
   "mimetype": "text/x-python",
   "name": "python",
   "nbconvert_exporter": "python",
   "pygments_lexer": "ipython3",
   "version": "3.6.3"
  }
 },
 "nbformat": 4,
 "nbformat_minor": 1
}
