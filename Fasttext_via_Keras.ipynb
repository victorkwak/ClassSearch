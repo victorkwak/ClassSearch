{
 "cells": [
  {
   "cell_type": "markdown",
   "metadata": {},
   "source": [
    "# Data Import"
   ]
  },
  {
   "cell_type": "code",
   "execution_count": 30,
   "metadata": {},
   "outputs": [],
   "source": [
    "import pandas as pd\n",
    "import numpy as np\n",
    "\n",
    "data = pd.read_csv('data/cs_subs.csv')  # unzip this file"
   ]
  },
  {
   "cell_type": "code",
   "execution_count": 31,
   "metadata": {},
   "outputs": [
    {
     "name": "stdout",
     "output_type": "stream",
     "text": [
      "Number of unique subreddits: 136\n"
     ]
    }
   ],
   "source": [
    "print('Number of unique subreddits:', len(data['subreddit'].unique()))"
   ]
  },
  {
   "cell_type": "code",
   "execution_count": 32,
   "metadata": {},
   "outputs": [
    {
     "name": "stdout",
     "output_type": "stream",
     "text": [
      "Total # of posts: (624289, 3)\n"
     ]
    }
   ],
   "source": [
    "print('Total # of posts:', data.shape)"
   ]
  },
  {
   "cell_type": "code",
   "execution_count": 33,
   "metadata": {},
   "outputs": [
    {
     "name": "stdout",
     "output_type": "stream",
     "text": [
      "Number of posts after dropping null values: (624281, 3)\n"
     ]
    }
   ],
   "source": [
    "print('Number of posts after dropping null values:', data.dropna().shape)"
   ]
  },
  {
   "cell_type": "code",
   "execution_count": 34,
   "metadata": {},
   "outputs": [],
   "source": [
    "data = data.dropna()"
   ]
  },
  {
   "cell_type": "markdown",
   "metadata": {},
   "source": [
    "###### Looking at the number of posts per subreddit"
   ]
  },
  {
   "cell_type": "code",
   "execution_count": 35,
   "metadata": {},
   "outputs": [
    {
     "data": {
      "text/plain": [
       "Android                61202\n",
       "learnprogramming       35288\n",
       "cscareerquestions      32935\n",
       "Windows10              27726\n",
       "webdev                 26849\n",
       "dataisbeautiful        24388\n",
       "softwaregore           23741\n",
       "web_design             22159\n",
       "ProgrammerHumor        19206\n",
       "learnpython            17634\n",
       "raspberry_pi           15659\n",
       "iOSBeta                14508\n",
       "linux                  14058\n",
       "javascript             12971\n",
       "linuxquestions         11464\n",
       "hackernews             11134\n",
       "Python                 11119\n",
       "windows                10132\n",
       "androiddev             10130\n",
       "mac                     9841\n",
       "ios                     9754\n",
       "arduino                 9603\n",
       "java                    9401\n",
       "networking              9378\n",
       "linux4noobs             8004\n",
       "androidthemes           7895\n",
       "chrome                  5862\n",
       "iOSProgramming          5647\n",
       "rust                    5489\n",
       "datascience             5374\n",
       "                       ...  \n",
       "redis                    241\n",
       "dartlang                 240\n",
       "programmerreactions      237\n",
       "Julia                    217\n",
       "reviewmycode             216\n",
       "zsh                      210\n",
       "OSXTweaks                198\n",
       "erlang                   186\n",
       "d3js                     179\n",
       "MaterialDesign           179\n",
       "npm                      164\n",
       "c_language               143\n",
       "learnphp                 120\n",
       "Heroku                   118\n",
       "dailyprogrammer          114\n",
       "cakephp                  113\n",
       "learnruby                106\n",
       "mariadb                   95\n",
       "tinycode                  93\n",
       "groovy                    90\n",
       "pythoncoding              88\n",
       "vagrant                   77\n",
       "Cprog                     38\n",
       "androiddesign             36\n",
       "osxterminal               31\n",
       "learnlaravel              28\n",
       "shell                     24\n",
       "haskelltil                24\n",
       "dotfiles                  17\n",
       "AskCompSci                17\n",
       "Name: subreddit, Length: 136, dtype: int64"
      ]
     },
     "execution_count": 35,
     "metadata": {},
     "output_type": "execute_result"
    }
   ],
   "source": [
    "data['subreddit'].value_counts()"
   ]
  },
  {
   "cell_type": "markdown",
   "metadata": {},
   "source": [
    "##### Sampling data"
   ]
  },
  {
   "cell_type": "code",
   "execution_count": 36,
   "metadata": {},
   "outputs": [
    {
     "data": {
      "text/html": [
       "<div>\n",
       "<style scoped>\n",
       "    .dataframe tbody tr th:only-of-type {\n",
       "        vertical-align: middle;\n",
       "    }\n",
       "\n",
       "    .dataframe tbody tr th {\n",
       "        vertical-align: top;\n",
       "    }\n",
       "\n",
       "    .dataframe thead th {\n",
       "        text-align: right;\n",
       "    }\n",
       "</style>\n",
       "<table border=\"1\" class=\"dataframe\">\n",
       "  <thead>\n",
       "    <tr style=\"text-align: right;\">\n",
       "      <th></th>\n",
       "      <th>title</th>\n",
       "      <th>score</th>\n",
       "      <th>subreddit</th>\n",
       "    </tr>\n",
       "  </thead>\n",
       "  <tbody>\n",
       "    <tr>\n",
       "      <th>506183</th>\n",
       "      <td>90s Web Design</td>\n",
       "      <td>472</td>\n",
       "      <td>androidthemes</td>\n",
       "    </tr>\n",
       "    <tr>\n",
       "      <th>203256</th>\n",
       "      <td>Can someone help me with some DRF serializers ...</td>\n",
       "      <td>1</td>\n",
       "      <td>django</td>\n",
       "    </tr>\n",
       "    <tr>\n",
       "      <th>21542</th>\n",
       "      <td>PSA: The Really Blue Pixel/Pixel XL are availa...</td>\n",
       "      <td>108</td>\n",
       "      <td>Android</td>\n",
       "    </tr>\n",
       "    <tr>\n",
       "      <th>73798</th>\n",
       "      <td>27[М4F] Sех-on-thе-First-Dаtе</td>\n",
       "      <td>0</td>\n",
       "      <td>raspberry_pi</td>\n",
       "    </tr>\n",
       "    <tr>\n",
       "      <th>324574</th>\n",
       "      <td>I am not able to send chats in Snapchat.</td>\n",
       "      <td>0</td>\n",
       "      <td>ios</td>\n",
       "    </tr>\n",
       "    <tr>\n",
       "      <th>173879</th>\n",
       "      <td>Reversing animations in KreatureMedia Layerslider</td>\n",
       "      <td>1</td>\n",
       "      <td>webdev</td>\n",
       "    </tr>\n",
       "    <tr>\n",
       "      <th>283173</th>\n",
       "      <td>How much should I ask for this piece of software?</td>\n",
       "      <td>9</td>\n",
       "      <td>cscareerquestions</td>\n",
       "    </tr>\n",
       "    <tr>\n",
       "      <th>268100</th>\n",
       "      <td>User Input decides how many times GUI is opened</td>\n",
       "      <td>1</td>\n",
       "      <td>javahelp</td>\n",
       "    </tr>\n",
       "    <tr>\n",
       "      <th>87800</th>\n",
       "      <td>Which Certification For a Beginner?</td>\n",
       "      <td>7</td>\n",
       "      <td>AskNetsec</td>\n",
       "    </tr>\n",
       "    <tr>\n",
       "      <th>323657</th>\n",
       "      <td>Change status bar in any android device</td>\n",
       "      <td>1</td>\n",
       "      <td>Android</td>\n",
       "    </tr>\n",
       "  </tbody>\n",
       "</table>\n",
       "</div>"
      ],
      "text/plain": [
       "                                                    title  score  \\\n",
       "506183                                     90s Web Design    472   \n",
       "203256  Can someone help me with some DRF serializers ...      1   \n",
       "21542   PSA: The Really Blue Pixel/Pixel XL are availa...    108   \n",
       "73798                       27[М4F] Sех-on-thе-First-Dаtе      0   \n",
       "324574           I am not able to send chats in Snapchat.      0   \n",
       "173879  Reversing animations in KreatureMedia Layerslider      1   \n",
       "283173  How much should I ask for this piece of software?      9   \n",
       "268100    User Input decides how many times GUI is opened      1   \n",
       "87800                 Which Certification For a Beginner?      7   \n",
       "323657            Change status bar in any android device      1   \n",
       "\n",
       "                subreddit  \n",
       "506183      androidthemes  \n",
       "203256             django  \n",
       "21542             Android  \n",
       "73798        raspberry_pi  \n",
       "324574                ios  \n",
       "173879             webdev  \n",
       "283173  cscareerquestions  \n",
       "268100           javahelp  \n",
       "87800           AskNetsec  \n",
       "323657            Android  "
      ]
     },
     "execution_count": 36,
     "metadata": {},
     "output_type": "execute_result"
    }
   ],
   "source": [
    "data.sample(10)"
   ]
  },
  {
   "cell_type": "markdown",
   "metadata": {},
   "source": [
    "##### We are filtering out subreddits that have less than 150 posts. "
   ]
  },
  {
   "cell_type": "code",
   "execution_count": 37,
   "metadata": {},
   "outputs": [],
   "source": [
    "counts = data['subreddit'].value_counts()\n",
    "counts = counts[counts > 150]"
   ]
  },
  {
   "cell_type": "code",
   "execution_count": 38,
   "metadata": {},
   "outputs": [],
   "source": [
    "top_values = list(counts.index)\n",
    "data = data[data['subreddit'].isin(top_values)]"
   ]
  },
  {
   "cell_type": "code",
   "execution_count": 39,
   "metadata": {},
   "outputs": [
    {
     "data": {
      "text/plain": [
       "Android                61202\n",
       "learnprogramming       35288\n",
       "cscareerquestions      32935\n",
       "Windows10              27726\n",
       "webdev                 26849\n",
       "dataisbeautiful        24388\n",
       "softwaregore           23741\n",
       "web_design             22159\n",
       "ProgrammerHumor        19206\n",
       "learnpython            17634\n",
       "raspberry_pi           15659\n",
       "iOSBeta                14508\n",
       "linux                  14058\n",
       "javascript             12971\n",
       "linuxquestions         11464\n",
       "hackernews             11134\n",
       "Python                 11119\n",
       "windows                10132\n",
       "androiddev             10130\n",
       "mac                     9841\n",
       "ios                     9754\n",
       "arduino                 9603\n",
       "java                    9401\n",
       "networking              9378\n",
       "linux4noobs             8004\n",
       "androidthemes           7895\n",
       "chrome                  5862\n",
       "iOSProgramming          5647\n",
       "rust                    5489\n",
       "datascience             5374\n",
       "                       ...  \n",
       "windowsinsiders          683\n",
       "jquery                   667\n",
       "operabrowser             647\n",
       "browsers                 586\n",
       "watchOSBeta              581\n",
       "LanguageTechnology       528\n",
       "macapps                  526\n",
       "mongodb                  507\n",
       "rubyonrails              455\n",
       "itsaunixsystem           449\n",
       "djangolearning           428\n",
       "nginx                    420\n",
       "haskellquestions         394\n",
       "lua                      363\n",
       "symfony                  357\n",
       "windows8                 334\n",
       "cprogramming             328\n",
       "Meteor                   316\n",
       "DatabaseHelp             312\n",
       "redis                    241\n",
       "dartlang                 240\n",
       "programmerreactions      237\n",
       "Julia                    217\n",
       "reviewmycode             216\n",
       "zsh                      210\n",
       "OSXTweaks                198\n",
       "erlang                   186\n",
       "MaterialDesign           179\n",
       "d3js                     179\n",
       "npm                      164\n",
       "Name: subreddit, Length: 117, dtype: int64"
      ]
     },
     "execution_count": 39,
     "metadata": {},
     "output_type": "execute_result"
    }
   ],
   "source": [
    "data['subreddit'].value_counts()"
   ]
  },
  {
   "cell_type": "code",
   "execution_count": 40,
   "metadata": {},
   "outputs": [
    {
     "data": {
      "text/plain": [
       "(622909, 3)"
      ]
     },
     "execution_count": 40,
     "metadata": {},
     "output_type": "execute_result"
    }
   ],
   "source": [
    "data.shape"
   ]
  },
  {
   "cell_type": "code",
   "execution_count": 41,
   "metadata": {},
   "outputs": [
    {
     "data": {
      "text/plain": [
       "(117,)"
      ]
     },
     "execution_count": 41,
     "metadata": {},
     "output_type": "execute_result"
    }
   ],
   "source": [
    "data['subreddit'].unique().shape"
   ]
  },
  {
   "cell_type": "markdown",
   "metadata": {},
   "source": [
    "We have a lot of data. Especially for my Macbook. Let's see the average reddit score (upvotes + downvotes) for each subreddit to filter out. I want to do mean and not median since median would just arbitrarily cut the data in half. Hopefully filtering by mean will take relatively larger chunks out of the more popular subreddits than the less popular ones."
   ]
  },
  {
   "cell_type": "code",
   "execution_count": 42,
   "metadata": {},
   "outputs": [],
   "source": [
    "means = {}\n",
    "for subreddit in data['subreddit'].unique():\n",
    "    means[subreddit] = data[data['subreddit'] == subreddit]['score'].mean()"
   ]
  },
  {
   "cell_type": "code",
   "execution_count": 43,
   "metadata": {},
   "outputs": [],
   "source": [
    "import numpy as np\n",
    "\n",
    "\n",
    "filtered = []\n",
    "\n",
    "for subreddit in data['subreddit'].unique():\n",
    "    filtered.append(data.loc[(data['subreddit'] == subreddit) & (data['score'] >= means[subreddit])])"
   ]
  },
  {
   "cell_type": "code",
   "execution_count": 44,
   "metadata": {},
   "outputs": [],
   "source": [
    "filtered_data = pd.concat(filtered)"
   ]
  },
  {
   "cell_type": "code",
   "execution_count": 45,
   "metadata": {},
   "outputs": [
    {
     "data": {
      "text/plain": [
       "Android                6807\n",
       "linuxquestions         3893\n",
       "cscareerquestions      3772\n",
       "learnpython            3081\n",
       "webdev                 2565\n",
       "hackernews             2563\n",
       "iOSBeta                2424\n",
       "Windows10              2338\n",
       "linux4noobs            2275\n",
       "ProgrammerHumor        2194\n",
       "networking             2174\n",
       "androiddev             2026\n",
       "linux                  2013\n",
       "windows                2005\n",
       "javascript             1880\n",
       "learnprogramming       1813\n",
       "softwaregore           1746\n",
       "ios                    1737\n",
       "java                   1672\n",
       "androidthemes          1664\n",
       "chrome                 1548\n",
       "Python                 1474\n",
       "aws                    1471\n",
       "rust                   1466\n",
       "web_design             1361\n",
       "javahelp               1326\n",
       "arduino                1205\n",
       "iOSProgramming         1190\n",
       "mac                    1150\n",
       "csshelp                1101\n",
       "                       ... \n",
       "operabrowser            221\n",
       "mongodb                 197\n",
       "windowsinsiders         189\n",
       "macapps                 189\n",
       "LanguageTechnology      181\n",
       "softwaredevelopment     178\n",
       "djangolearning          173\n",
       "watchOSBeta             149\n",
       "browsers                142\n",
       "itsaunixsystem          138\n",
       "symfony                 124\n",
       "lua                     121\n",
       "nginx                   120\n",
       "windows8                119\n",
       "haskellquestions        117\n",
       "programmerreactions     117\n",
       "rubyonrails             117\n",
       "dartlang                103\n",
       "Meteor                  101\n",
       "redis                    86\n",
       "Julia                    82\n",
       "npm                      74\n",
       "erlang                   72\n",
       "zsh                      69\n",
       "OSXTweaks                67\n",
       "DatabaseHelp             59\n",
       "MaterialDesign           51\n",
       "d3js                     49\n",
       "cprogramming             48\n",
       "reviewmycode             44\n",
       "Name: subreddit, Length: 117, dtype: int64"
      ]
     },
     "execution_count": 45,
     "metadata": {},
     "output_type": "execute_result"
    }
   ],
   "source": [
    "filtered_data['subreddit'].value_counts()"
   ]
  },
  {
   "cell_type": "code",
   "execution_count": 46,
   "metadata": {},
   "outputs": [
    {
     "data": {
      "text/plain": [
       "(99057, 3)"
      ]
     },
     "execution_count": 46,
     "metadata": {},
     "output_type": "execute_result"
    }
   ],
   "source": [
    "filtered_data.shape"
   ]
  },
  {
   "cell_type": "code",
   "execution_count": 47,
   "metadata": {},
   "outputs": [
    {
     "data": {
      "text/plain": [
       "(98941, 3)"
      ]
     },
     "execution_count": 47,
     "metadata": {},
     "output_type": "execute_result"
    }
   ],
   "source": [
    "filtered_data.drop_duplicates().shape"
   ]
  },
  {
   "cell_type": "code",
   "execution_count": 48,
   "metadata": {},
   "outputs": [],
   "source": [
    "filtered_data = filtered_data.drop_duplicates()"
   ]
  },
  {
   "cell_type": "code",
   "execution_count": 49,
   "metadata": {},
   "outputs": [
    {
     "data": {
      "text/html": [
       "<div>\n",
       "<style scoped>\n",
       "    .dataframe tbody tr th:only-of-type {\n",
       "        vertical-align: middle;\n",
       "    }\n",
       "\n",
       "    .dataframe tbody tr th {\n",
       "        vertical-align: top;\n",
       "    }\n",
       "\n",
       "    .dataframe thead th {\n",
       "        text-align: right;\n",
       "    }\n",
       "</style>\n",
       "<table border=\"1\" class=\"dataframe\">\n",
       "  <thead>\n",
       "    <tr style=\"text-align: right;\">\n",
       "      <th></th>\n",
       "      <th>title</th>\n",
       "      <th>score</th>\n",
       "      <th>subreddit</th>\n",
       "    </tr>\n",
       "  </thead>\n",
       "  <tbody>\n",
       "    <tr>\n",
       "      <th>312941</th>\n",
       "      <td>Huh, I guess my PC ascended into godhood while...</td>\n",
       "      <td>127</td>\n",
       "      <td>softwaregore</td>\n",
       "    </tr>\n",
       "    <tr>\n",
       "      <th>308139</th>\n",
       "      <td>Expose your gRPC services as HTTP services.</td>\n",
       "      <td>16</td>\n",
       "      <td>golang</td>\n",
       "    </tr>\n",
       "    <tr>\n",
       "      <th>470197</th>\n",
       "      <td>Search Bar collapses and sticks to top of scre...</td>\n",
       "      <td>19</td>\n",
       "      <td>ios</td>\n",
       "    </tr>\n",
       "    <tr>\n",
       "      <th>583549</th>\n",
       "      <td>Hip Hop Google Doodle: How to code the animati...</td>\n",
       "      <td>22</td>\n",
       "      <td>learnprogramming</td>\n",
       "    </tr>\n",
       "    <tr>\n",
       "      <th>496822</th>\n",
       "      <td>Simple text-based drawing DSL</td>\n",
       "      <td>71</td>\n",
       "      <td>haskell</td>\n",
       "    </tr>\n",
       "    <tr>\n",
       "      <th>265681</th>\n",
       "      <td>Checkbox to toggle spoilers on/off?</td>\n",
       "      <td>2</td>\n",
       "      <td>csshelp</td>\n",
       "    </tr>\n",
       "    <tr>\n",
       "      <th>109357</th>\n",
       "      <td>Expectations of a Junior Front End Dev</td>\n",
       "      <td>18</td>\n",
       "      <td>cscareerquestions</td>\n",
       "    </tr>\n",
       "    <tr>\n",
       "      <th>131315</th>\n",
       "      <td>Say update one more time</td>\n",
       "      <td>200</td>\n",
       "      <td>softwaregore</td>\n",
       "    </tr>\n",
       "    <tr>\n",
       "      <th>15942</th>\n",
       "      <td>Safe C wrappers in Rust</td>\n",
       "      <td>43</td>\n",
       "      <td>rust</td>\n",
       "    </tr>\n",
       "    <tr>\n",
       "      <th>418884</th>\n",
       "      <td>Go 1.8.4 and 1.9.1 Released!</td>\n",
       "      <td>20</td>\n",
       "      <td>golang</td>\n",
       "    </tr>\n",
       "    <tr>\n",
       "      <th>300321</th>\n",
       "      <td>CppCon 2017: Guy Somberg “Game Audio Programmi...</td>\n",
       "      <td>67</td>\n",
       "      <td>cpp</td>\n",
       "    </tr>\n",
       "    <tr>\n",
       "      <th>511399</th>\n",
       "      <td>6/17</td>\n",
       "      <td>55</td>\n",
       "      <td>androidthemes</td>\n",
       "    </tr>\n",
       "    <tr>\n",
       "      <th>116438</th>\n",
       "      <td>This Week in Rust 177</td>\n",
       "      <td>51</td>\n",
       "      <td>rust</td>\n",
       "    </tr>\n",
       "    <tr>\n",
       "      <th>384140</th>\n",
       "      <td>Naming Progressive Web Apps</td>\n",
       "      <td>22</td>\n",
       "      <td>webdev</td>\n",
       "    </tr>\n",
       "    <tr>\n",
       "      <th>86925</th>\n",
       "      <td>How does a maven repository work?</td>\n",
       "      <td>7</td>\n",
       "      <td>java</td>\n",
       "    </tr>\n",
       "    <tr>\n",
       "      <th>241616</th>\n",
       "      <td>Big 4 Discussion - February 12, 2017</td>\n",
       "      <td>12</td>\n",
       "      <td>cscareerquestions</td>\n",
       "    </tr>\n",
       "    <tr>\n",
       "      <th>312407</th>\n",
       "      <td>MongoDB 3.6.0-rc0 is released</td>\n",
       "      <td>13</td>\n",
       "      <td>mongodb</td>\n",
       "    </tr>\n",
       "    <tr>\n",
       "      <th>401847</th>\n",
       "      <td>Is it possible to keep hardware acceleration e...</td>\n",
       "      <td>14</td>\n",
       "      <td>chrome</td>\n",
       "    </tr>\n",
       "    <tr>\n",
       "      <th>550559</th>\n",
       "      <td>Is there any downside to breaking 1 class into...</td>\n",
       "      <td>34</td>\n",
       "      <td>csharp</td>\n",
       "    </tr>\n",
       "    <tr>\n",
       "      <th>418951</th>\n",
       "      <td>11.1 beta 5 on iPhone 8</td>\n",
       "      <td>19</td>\n",
       "      <td>ios</td>\n",
       "    </tr>\n",
       "  </tbody>\n",
       "</table>\n",
       "</div>"
      ],
      "text/plain": [
       "                                                    title  score  \\\n",
       "312941  Huh, I guess my PC ascended into godhood while...    127   \n",
       "308139        Expose your gRPC services as HTTP services.     16   \n",
       "470197  Search Bar collapses and sticks to top of scre...     19   \n",
       "583549  Hip Hop Google Doodle: How to code the animati...     22   \n",
       "496822                      Simple text-based drawing DSL     71   \n",
       "265681                Checkbox to toggle spoilers on/off?      2   \n",
       "109357             Expectations of a Junior Front End Dev     18   \n",
       "131315                           Say update one more time    200   \n",
       "15942                             Safe C wrappers in Rust     43   \n",
       "418884                       Go 1.8.4 and 1.9.1 Released!     20   \n",
       "300321  CppCon 2017: Guy Somberg “Game Audio Programmi...     67   \n",
       "511399                                               6/17     55   \n",
       "116438                              This Week in Rust 177     51   \n",
       "384140                        Naming Progressive Web Apps     22   \n",
       "86925                   How does a maven repository work?      7   \n",
       "241616               Big 4 Discussion - February 12, 2017     12   \n",
       "312407                      MongoDB 3.6.0-rc0 is released     13   \n",
       "401847  Is it possible to keep hardware acceleration e...     14   \n",
       "550559  Is there any downside to breaking 1 class into...     34   \n",
       "418951                            11.1 beta 5 on iPhone 8     19   \n",
       "\n",
       "                subreddit  \n",
       "312941       softwaregore  \n",
       "308139             golang  \n",
       "470197                ios  \n",
       "583549   learnprogramming  \n",
       "496822            haskell  \n",
       "265681            csshelp  \n",
       "109357  cscareerquestions  \n",
       "131315       softwaregore  \n",
       "15942                rust  \n",
       "418884             golang  \n",
       "300321                cpp  \n",
       "511399      androidthemes  \n",
       "116438               rust  \n",
       "384140             webdev  \n",
       "86925                java  \n",
       "241616  cscareerquestions  \n",
       "312407            mongodb  \n",
       "401847             chrome  \n",
       "550559             csharp  \n",
       "418951                ios  "
      ]
     },
     "execution_count": 49,
     "metadata": {},
     "output_type": "execute_result"
    }
   ],
   "source": [
    "filtered_data.sample(20)"
   ]
  },
  {
   "cell_type": "code",
   "execution_count": 50,
   "metadata": {},
   "outputs": [],
   "source": [
    "X = filtered_data['title']\n",
    "y = filtered_data['subreddit']"
   ]
  },
  {
   "cell_type": "markdown",
   "metadata": {},
   "source": [
    "Adapted from https://github.com/keras-team/keras/blob/master/examples/imdb_fasttext.py"
   ]
  },
  {
   "cell_type": "code",
   "execution_count": 74,
   "metadata": {},
   "outputs": [],
   "source": [
    "from sklearn.preprocessing import LabelBinarizer, LabelEncoder\n",
    "from keras.preprocessing.text import Tokenizer\n",
    "from keras.preprocessing import sequence\n",
    "\n",
    "\n",
    "def create_ngram_set(input_list, ngram_value=2):\n",
    "    \"\"\"\n",
    "    Extract a set of n-grams from a list of integers.\n",
    "    >>> create_ngram_set([1, 4, 9, 4, 1, 4], ngram_value=2)\n",
    "    {(4, 9), (4, 1), (1, 4), (9, 4)}\n",
    "    >>> create_ngram_set([1, 4, 9, 4, 1, 4], ngram_value=3)\n",
    "    [(1, 4, 9), (4, 9, 4), (9, 4, 1), (4, 1, 4)]\n",
    "    \"\"\"\n",
    "    return set(zip(*[input_list[i:] for i in range(ngram_value)]))\n",
    "\n",
    "def add_ngram(sequences, token_indice, ngram_range=2):\n",
    "    \"\"\"\n",
    "    Augment the input list of list (sequences) by appending n-grams values.\n",
    "    Example: adding bi-gram\n",
    "    >>> sequences = [[1, 3, 4, 5], [1, 3, 7, 9, 2]]\n",
    "    >>> token_indice = {(1, 3): 1337, (9, 2): 42, (4, 5): 2017}\n",
    "    >>> add_ngram(sequences, token_indice, ngram_range=2)\n",
    "    [[1, 3, 4, 5, 1337, 2017], [1, 3, 7, 9, 2, 1337, 42]]\n",
    "    Example: adding tri-gram\n",
    "    >>> sequences = [[1, 3, 4, 5], [1, 3, 7, 9, 2]]\n",
    "    >>> token_indice = {(1, 3): 1337, (9, 2): 42, (4, 5): 2017, (7, 9, 2): 2018}\n",
    "    >>> add_ngram(sequences, token_indice, ngram_range=3)\n",
    "    [[1, 3, 4, 5, 1337], [1, 3, 7, 9, 2, 1337, 2018]]\n",
    "    \"\"\"\n",
    "    new_sequences = []\n",
    "    for input_list in sequences:\n",
    "        new_list = input_list[:]\n",
    "        for i in range(len(new_list) - ngram_range + 1):\n",
    "            for ngram_value in range(2, ngram_range + 1):\n",
    "                ngram = tuple(new_list[i:i + ngram_value])\n",
    "                if ngram in token_indice:\n",
    "                    new_list.append(token_indice[ngram])\n",
    "        new_sequences.append(new_list)\n",
    "\n",
    "    return new_sequences\n",
    "\n",
    "def create_indices(X, ngram_range, max_features):\n",
    "    ngram_set = set()\n",
    "    for input_list in X:\n",
    "        for i in range(2, ngram_range + 1):\n",
    "            set_of_ngram = create_ngram_set(input_list, ngram_value=i)\n",
    "            ngram_set.update(set_of_ngram)\n",
    "\n",
    "\n",
    "    start_index = max_features + 1\n",
    "    token_indice = {v: k + start_index for k, v in enumerate(ngram_set)}\n",
    "    indice_token = {token_indice[k]: k for k in token_indice}\n",
    "\n",
    "    max_features = np.max(list(indice_token.keys())) + 1\n",
    "        \n",
    "    return token_indice, max_features\n",
    "\n",
    "def preprocess(X, y, train=False, ngram_range=2, max_len=30, max_features=1000, **kwargs):\n",
    "    \n",
    "    if train:\n",
    "        tokenizer = Tokenizer(num_words=max_features)\n",
    "        tokenizer.fit_on_texts(X)\n",
    "        \n",
    "        label_encoder = LabelEncoder()\n",
    "        y = label_encoder.fit_transform(y)\n",
    "        \n",
    "        label_binarizer = LabelBinarizer()\n",
    "        y = label_binarizer.fit_transform(y)\n",
    "        \n",
    "        token_indice = None\n",
    "    else:\n",
    "        tokenizer = kwargs['tokenizer']\n",
    "        label_encoder = kwargs['label_encoder']\n",
    "        label_binarizer = kwargs['label_binarizer']\n",
    "        \n",
    "        y = label_encoder.transform(y)\n",
    "        y = label_binarizer.transform(y)\n",
    "        \n",
    "    X = tokenizer.texts_to_sequences(X)\n",
    "    \n",
    "    if ngram_range > 1:\n",
    "        if train:\n",
    "            token_indice, max_features = create_indices(X, ngram_range, max_features)\n",
    "        else:\n",
    "            token_indice = kwargs['token_indice']\n",
    "        \n",
    "        X = add_ngram(X, token_indice, ngram_range)\n",
    "        \n",
    "    X = sequence.pad_sequences(X, maxlen=max_len)\n",
    "    \n",
    "    if train:\n",
    "        return X, y, tokenizer, label_encoder, label_binarizer, token_indice, max_features\n",
    "    return X, y"
   ]
  },
  {
   "cell_type": "code",
   "execution_count": 122,
   "metadata": {},
   "outputs": [],
   "source": [
    "import numpy as np\n",
    "from sklearn.metrics import accuracy_score\n",
    "from sklearn.metrics import classification_report\n",
    "\n",
    "\n",
    "def top_n_accuracy(y_true, probs, n=5):\n",
    "    y_true_decoded = []\n",
    "    for label in y_true:\n",
    "        y_true_decoded.append(np.argmax(label))\n",
    "    \n",
    "    top_n_list = []\n",
    "    for prob in probs:\n",
    "        top_n_list.append(np.argsort(-prob)[:n])\n",
    "    predictions = []\n",
    "    for prediction, top_n in zip(y_true_decoded, top_n_list):\n",
    "        predictions.append(int(prediction in top_n))\n",
    "    return np.sum(predictions) / y_true.shape[0]"
   ]
  },
  {
   "cell_type": "markdown",
   "metadata": {},
   "source": [
    "##### Splitting data into train (60%), val (20%), and test (20%) and preprocessing"
   ]
  },
  {
   "cell_type": "code",
   "execution_count": 145,
   "metadata": {},
   "outputs": [
    {
     "name": "stdout",
     "output_type": "stream",
     "text": [
      "(59364,)\n",
      "(19788,)\n",
      "(19789,)\n",
      "(59364,)\n",
      "(19788,)\n",
      "(19789,)\n",
      "max_features: 229413\n"
     ]
    }
   ],
   "source": [
    "from sklearn.model_selection import train_test_split\n",
    "import pickle\n",
    "\n",
    "X_train, X_test, y_train, y_test = train_test_split(X, y, test_size=0.4, random_state=17)\n",
    "X_test, X_val, y_test, y_val = train_test_split(X_test, y_test, test_size=0.5, random_state=31)\n",
    "print(X_train.shape)\n",
    "print(X_test.shape)\n",
    "print(X_val.shape)\n",
    "print(y_train.shape)\n",
    "print(y_test.shape)\n",
    "print(y_val.shape)\n",
    "\n",
    "ngram_range = 2\n",
    "max_features = 10000\n",
    "max_len = 30\n",
    "\n",
    "X_train, y_train, tokenizer, label_encoder, label_binarizer, token_indice, max_features = preprocess(\n",
    "    X_train, y_train, train=True, ngram_range=ngram_range, max_features=max_features, max_len=max_len)\n",
    "\n",
    "processors = {\n",
    "    'tokenizer': tokenizer,\n",
    "    'label_binarizer': label_binarizer,\n",
    "    'label_encoder': label_encoder,\n",
    "    'token_indice': token_indice\n",
    "}\n",
    "\n",
    "X_val, y_val = preprocess(\n",
    "    X_val, y_val, ngram_range=ngram_range, max_len=max_len, **processors)\n",
    "\n",
    "X_test, y_test = preprocess(\n",
    "    X_test, y_test, ngram_range=ngram_range, max_len=max_len, **processors)\n",
    "\n",
    "print('max_features:', max_features)"
   ]
  },
  {
   "cell_type": "code",
   "execution_count": null,
   "metadata": {
    "scrolled": false
   },
   "outputs": [
    {
     "name": "stdout",
     "output_type": "stream",
     "text": [
      "Train on 59364 samples, validate on 19789 samples\n",
      "Epoch 1/1000\n",
      "59364/59364 [==============================] - 9s 146us/step - loss: 4.3022 - acc: 0.0730 - val_loss: 4.0610 - val_acc: 0.0907\n",
      "Epoch 2/1000\n",
      "59364/59364 [==============================] - 7s 125us/step - loss: 3.7602 - acc: 0.1840 - val_loss: 3.5441 - val_acc: 0.2481\n",
      "Epoch 3/1000\n",
      "59364/59364 [==============================] - 7s 124us/step - loss: 3.0788 - acc: 0.3725 - val_loss: 3.0152 - val_acc: 0.3670\n",
      "Epoch 4/1000\n",
      "59364/59364 [==============================] - 7s 124us/step - loss: 2.4278 - acc: 0.5156 - val_loss: 2.6565 - val_acc: 0.4282\n",
      "Epoch 5/1000\n",
      "59364/59364 [==============================] - 7s 124us/step - loss: 1.9282 - acc: 0.6164 - val_loss: 2.4388 - val_acc: 0.4583\n",
      "Epoch 6/1000\n",
      "59364/59364 [==============================] - 7s 124us/step - loss: 1.5464 - acc: 0.6928 - val_loss: 2.3019 - val_acc: 0.4782\n",
      "Epoch 7/1000\n",
      "59364/59364 [==============================] - 7s 124us/step - loss: 1.2448 - acc: 0.7578 - val_loss: 2.2140 - val_acc: 0.4854\n",
      "Epoch 8/1000\n",
      "59364/59364 [==============================] - 7s 124us/step - loss: 1.0024 - acc: 0.8106 - val_loss: 2.1555 - val_acc: 0.4955\n",
      "Epoch 9/1000\n",
      "49900/59364 [========================>.....] - ETA: 1s - loss: 0.8130 - acc: 0.8505"
     ]
    }
   ],
   "source": [
    "from keras.models import Sequential\n",
    "from keras.layers import Dense\n",
    "from keras.layers import Embedding\n",
    "from keras.layers import GlobalAveragePooling1D\n",
    "from keras import callbacks\n",
    "import keras.backend as K\n",
    "from keras.models import load_model\n",
    "\n",
    "batch_size = 100\n",
    "embedding_dims = 100\n",
    "epochs = 1000\n",
    "\n",
    "model = Sequential()\n",
    "\n",
    "model.add(Embedding(max_features, embedding_dims, input_length=X_train.shape[1]))\n",
    "model.add(GlobalAveragePooling1D())\n",
    "model.add(Dense(y_train.shape[1], activation='softmax'))\n",
    "\n",
    "model.compile(loss='categorical_crossentropy',\n",
    "              optimizer='adam',\n",
    "              metrics=['accuracy'])\n",
    "\n",
    "# Callbacks\n",
    "early_stopping = callbacks.EarlyStopping(monitor='val_loss', \n",
    "                                         min_delta=0.001,\n",
    "                                         patience=5,\n",
    "                                         mode='min')\n",
    "\n",
    "get_best = callbacks.ModelCheckpoint(monitor='val_loss',\n",
    "                                     filepath='models/keras_fasttext.hdf5',\n",
    "                                     save_best_only=True)\n",
    "\n",
    "reduce_lr = callbacks.ReduceLROnPlateau(monitor='val_loss',\n",
    "                                        patience=1,\n",
    "                                        factor=0.00001,\n",
    "                                        min_lr=0.0001)\n",
    "\n",
    "model.fit(X_train, y_train,\n",
    "          batch_size=batch_size,\n",
    "          epochs=epochs,\n",
    "          callbacks=[early_stopping, get_best, reduce_lr],\n",
    "          validation_data=[X_val, y_val])\n",
    "\n",
    "model = load_model('models/keras_fasttext.hdf5')"
   ]
  },
  {
   "cell_type": "code",
   "execution_count": 153,
   "metadata": {},
   "outputs": [
    {
     "data": {
      "text/plain": [
       "0.77694678861994038"
      ]
     },
     "execution_count": 153,
     "metadata": {},
     "output_type": "execute_result"
    }
   ],
   "source": [
    "probs = model.predict_proba(X_val)\n",
    "\n",
    "top_n_accuracy(y_val, probs)"
   ]
  },
  {
   "cell_type": "code",
   "execution_count": null,
   "metadata": {},
   "outputs": [],
   "source": []
  }
 ],
 "metadata": {
  "kernelspec": {
   "display_name": "Python 3",
   "language": "python",
   "name": "python3"
  },
  "language_info": {
   "codemirror_mode": {
    "name": "ipython",
    "version": 3
   },
   "file_extension": ".py",
   "mimetype": "text/x-python",
   "name": "python",
   "nbconvert_exporter": "python",
   "pygments_lexer": "ipython3",
   "version": "3.5.4"
  }
 },
 "nbformat": 4,
 "nbformat_minor": 1
}
