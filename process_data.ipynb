{
 "cells": [
  {
   "cell_type": "code",
   "execution_count": 3,
   "metadata": {
    "collapsed": true
   },
   "outputs": [],
   "source": [
    "import pandas as pd\n",
    "\n",
    "data = pd.read_csv('data/cs_subs.csv')  # unzip this file"
   ]
  },
  {
   "cell_type": "code",
   "execution_count": 4,
   "metadata": {
    "collapsed": false
   },
   "outputs": [
    {
     "data": {
      "text/plain": [
       "136"
      ]
     },
     "execution_count": 4,
     "metadata": {},
     "output_type": "execute_result"
    }
   ],
   "source": [
    "len(data['subreddit'].unique())"
   ]
  },
  {
   "cell_type": "code",
   "execution_count": 5,
   "metadata": {},
   "outputs": [
    {
     "data": {
      "text/plain": [
       "(624289, 3)"
      ]
     },
     "execution_count": 5,
     "metadata": {},
     "output_type": "execute_result"
    }
   ],
   "source": [
    "data.shape"
   ]
  },
  {
   "cell_type": "code",
   "execution_count": 6,
   "metadata": {},
   "outputs": [
    {
     "data": {
      "text/plain": [
       "Android                61202\nlearnprogramming       35288\ncscareerquestions      32935\nWindows10              27726\nwebdev                 26849\ndataisbeautiful        24389\nsoftwaregore           23746\nweb_design             22159\nProgrammerHumor        19208\nlearnpython            17634\nraspberry_pi           15659\niOSBeta                14508\nlinux                  14058\njavascript             12971\nlinuxquestions         11464\nhackernews             11134\nPython                 11119\nwindows                10132\nandroiddev             10130\nmac                     9841\nios                     9754\narduino                 9603\njava                    9401\nnetworking              9378\nlinux4noobs             8004\nandroidthemes           7895\nchrome                  5862\niOSProgramming          5647\nrust                    5489\ndatascience             5374\n                       ...  \nredis                    241\ndartlang                 240\nprogrammerreactions      237\nJulia                    217\nreviewmycode             216\nzsh                      210\nOSXTweaks                198\nerlang                   186\nd3js                     179\nMaterialDesign           179\nnpm                      164\nc_language               143\nlearnphp                 120\nHeroku                   118\ndailyprogrammer          114\ncakephp                  113\nlearnruby                106\nmariadb                   95\ntinycode                  93\ngroovy                    90\npythoncoding              88\nvagrant                   77\nCprog                     38\nandroiddesign             36\nosxterminal               31\nlearnlaravel              28\nshell                     24\nhaskelltil                24\ndotfiles                  17\nAskCompSci                17\nName: subreddit, Length: 136, dtype: int64"
      ]
     },
     "execution_count": 6,
     "metadata": {},
     "output_type": "execute_result"
    }
   ],
   "source": [
    "data['subreddit'].value_counts()"
   ]
  },
  {
   "cell_type": "code",
   "execution_count": 7,
   "metadata": {},
   "outputs": [
    {
     "data": {
      "text/plain": [
       "(624281, 3)"
      ]
     },
     "execution_count": 7,
     "metadata": {},
     "output_type": "execute_result"
    }
   ],
   "source": [
    "data.dropna().shape"
   ]
  },
  {
   "cell_type": "code",
   "execution_count": 8,
   "metadata": {},
   "outputs": [
    {
     "data": {
      "text/plain": [
       "(615832, 3)"
      ]
     },
     "execution_count": 8,
     "metadata": {},
     "output_type": "execute_result"
    }
   ],
   "source": [
    "data.drop_duplicates().shape"
   ]
  },
  {
   "cell_type": "code",
   "execution_count": 9,
   "metadata": {},
   "outputs": [],
   "source": [
    "data = data.dropna().drop_duplicates()"
   ]
  },
  {
   "cell_type": "code",
   "execution_count": 10,
   "metadata": {},
   "outputs": [
    {
     "data": {
      "text/plain": [
       "(615825, 3)"
      ]
     },
     "execution_count": 10,
     "metadata": {},
     "output_type": "execute_result"
    }
   ],
   "source": [
    "data.shape"
   ]
  },
  {
   "cell_type": "code",
   "execution_count": 11,
   "metadata": {},
   "outputs": [
    {
     "data": {
      "text/html": [
       "<div>\n",
       "<style scoped>\n",
       "    .dataframe tbody tr th:only-of-type {\n",
       "        vertical-align: middle;\n",
       "    }\n",
       "\n",
       "    .dataframe tbody tr th {\n",
       "        vertical-align: top;\n",
       "    }\n",
       "\n",
       "    .dataframe thead th {\n",
       "        text-align: right;\n",
       "    }\n",
       "</style>\n",
       "<table border=\"1\" class=\"dataframe\">\n",
       "  <thead>\n",
       "    <tr style=\"text-align: right;\">\n",
       "      <th></th>\n",
       "      <th>title</th>\n",
       "      <th>score</th>\n",
       "      <th>subreddit</th>\n",
       "    </tr>\n",
       "  </thead>\n",
       "  <tbody>\n",
       "    <tr>\n",
       "      <th>423502</th>\n",
       "      <td>Help with Rust</td>\n",
       "      <td>1</td>\n",
       "      <td>rust</td>\n",
       "    </tr>\n",
       "    <tr>\n",
       "      <th>72233</th>\n",
       "      <td>Beauty of the Perl 6 grammar (part 1)</td>\n",
       "      <td>9</td>\n",
       "      <td>ProgrammerHumor</td>\n",
       "    </tr>\n",
       "    <tr>\n",
       "      <th>283158</th>\n",
       "      <td>How do I get interviews for junior positions w...</td>\n",
       "      <td>3</td>\n",
       "      <td>cscareerquestions</td>\n",
       "    </tr>\n",
       "    <tr>\n",
       "      <th>588513</th>\n",
       "      <td>SoftBank’s $100B fund is in a league of its own</td>\n",
       "      <td>2</td>\n",
       "      <td>hackernews</td>\n",
       "    </tr>\n",
       "    <tr>\n",
       "      <th>510035</th>\n",
       "      <td>Top Brochure Design India</td>\n",
       "      <td>1</td>\n",
       "      <td>web_design</td>\n",
       "    </tr>\n",
       "    <tr>\n",
       "      <th>306309</th>\n",
       "      <td>Google PLAY Support</td>\n",
       "      <td>1</td>\n",
       "      <td>androiddev</td>\n",
       "    </tr>\n",
       "    <tr>\n",
       "      <th>63554</th>\n",
       "      <td>Best Web Design &amp;amp; Development Company</td>\n",
       "      <td>1</td>\n",
       "      <td>Web_Development</td>\n",
       "    </tr>\n",
       "    <tr>\n",
       "      <th>195653</th>\n",
       "      <td>Information Security and Tech Interview - What...</td>\n",
       "      <td>1</td>\n",
       "      <td>cscareerquestions</td>\n",
       "    </tr>\n",
       "    <tr>\n",
       "      <th>370878</th>\n",
       "      <td>Is this code affected by the Global Interprete...</td>\n",
       "      <td>1</td>\n",
       "      <td>Python</td>\n",
       "    </tr>\n",
       "    <tr>\n",
       "      <th>527098</th>\n",
       "      <td>Stock Options</td>\n",
       "      <td>0</td>\n",
       "      <td>cscareerquestions</td>\n",
       "    </tr>\n",
       "    <tr>\n",
       "      <th>416147</th>\n",
       "      <td>Exclusive: This is the OnePlus 5 https://t.co/...</td>\n",
       "      <td>1</td>\n",
       "      <td>java</td>\n",
       "    </tr>\n",
       "    <tr>\n",
       "      <th>295703</th>\n",
       "      <td>Accessing files from a Linux partition</td>\n",
       "      <td>3</td>\n",
       "      <td>linuxquestions</td>\n",
       "    </tr>\n",
       "    <tr>\n",
       "      <th>77819</th>\n",
       "      <td>I like the idea of working in a Data Center, b...</td>\n",
       "      <td>114</td>\n",
       "      <td>networking</td>\n",
       "    </tr>\n",
       "    <tr>\n",
       "      <th>36635</th>\n",
       "      <td>Hire Top Mobile App Developers with Extensive ...</td>\n",
       "      <td>1</td>\n",
       "      <td>softwaredevelopment</td>\n",
       "    </tr>\n",
       "    <tr>\n",
       "      <th>116086</th>\n",
       "      <td>Lenovo X260 with Sierra Wireless EM7455 Window...</td>\n",
       "      <td>2</td>\n",
       "      <td>Windows10</td>\n",
       "    </tr>\n",
       "    <tr>\n",
       "      <th>527172</th>\n",
       "      <td>Considering AppleCare+ for MBP</td>\n",
       "      <td>1</td>\n",
       "      <td>mac</td>\n",
       "    </tr>\n",
       "    <tr>\n",
       "      <th>369757</th>\n",
       "      <td>HTML5 Or Native Application: The Debate Contin...</td>\n",
       "      <td>1</td>\n",
       "      <td>Web_Development</td>\n",
       "    </tr>\n",
       "    <tr>\n",
       "      <th>581201</th>\n",
       "      <td>iOS beta 3 worked pretty good. Updated to 4 an...</td>\n",
       "      <td>1</td>\n",
       "      <td>iOSBeta</td>\n",
       "    </tr>\n",
       "    <tr>\n",
       "      <th>444128</th>\n",
       "      <td>Why does my line 8 not work?</td>\n",
       "      <td>1</td>\n",
       "      <td>learnpython</td>\n",
       "    </tr>\n",
       "    <tr>\n",
       "      <th>546194</th>\n",
       "      <td>How ticket touts are 'killing' the live music ...</td>\n",
       "      <td>5</td>\n",
       "      <td>dataisbeautiful</td>\n",
       "    </tr>\n",
       "  </tbody>\n",
       "</table>\n",
       "</div>"
      ],
      "text/plain": [
       "<div>\n",
       "<style scoped>\n",
       "    .dataframe tbody tr th:only-of-type {\n",
       "        vertical-align: middle;\n",
       "    }\n",
       "\n",
       "    .dataframe tbody tr th {\n",
       "        vertical-align: top;\n",
       "    }\n",
       "\n",
       "    .dataframe thead th {\n",
       "        text-align: right;\n",
       "    }\n",
       "</style>\n",
       "<table border=\"1\" class=\"dataframe\">\n",
       "  <thead>\n",
       "    <tr style=\"text-align: right;\">\n",
       "      <th></th>\n",
       "      <th>title</th>\n",
       "      <th>score</th>\n",
       "      <th>subreddit</th>\n",
       "    </tr>\n",
       "  </thead>\n",
       "  <tbody>\n",
       "    <tr>\n",
       "      <th>423502</th>\n",
       "      <td>Help with Rust</td>\n",
       "      <td>1</td>\n",
       "      <td>rust</td>\n",
       "    </tr>\n",
       "    <tr>\n",
       "      <th>72233</th>\n",
       "      <td>Beauty of the Perl 6 grammar (part 1)</td>\n",
       "      <td>9</td>\n",
       "      <td>ProgrammerHumor</td>\n",
       "    </tr>\n",
       "    <tr>\n",
       "      <th>283158</th>\n",
       "      <td>How do I get interviews for junior positions w...</td>\n",
       "      <td>3</td>\n",
       "      <td>cscareerquestions</td>\n",
       "    </tr>\n",
       "    <tr>\n",
       "      <th>588513</th>\n",
       "      <td>SoftBank’s $100B fund is in a league of its own</td>\n",
       "      <td>2</td>\n",
       "      <td>hackernews</td>\n",
       "    </tr>\n",
       "    <tr>\n",
       "      <th>510035</th>\n",
       "      <td>Top Brochure Design India</td>\n",
       "      <td>1</td>\n",
       "      <td>web_design</td>\n",
       "    </tr>\n",
       "    <tr>\n",
       "      <th>306309</th>\n",
       "      <td>Google PLAY Support</td>\n",
       "      <td>1</td>\n",
       "      <td>androiddev</td>\n",
       "    </tr>\n",
       "    <tr>\n",
       "      <th>63554</th>\n",
       "      <td>Best Web Design &amp;amp; Development Company</td>\n",
       "      <td>1</td>\n",
       "      <td>Web_Development</td>\n",
       "    </tr>\n",
       "    <tr>\n",
       "      <th>195653</th>\n",
       "      <td>Information Security and Tech Interview - What...</td>\n",
       "      <td>1</td>\n",
       "      <td>cscareerquestions</td>\n",
       "    </tr>\n",
       "    <tr>\n",
       "      <th>370878</th>\n",
       "      <td>Is this code affected by the Global Interprete...</td>\n",
       "      <td>1</td>\n",
       "      <td>Python</td>\n",
       "    </tr>\n",
       "    <tr>\n",
       "      <th>527098</th>\n",
       "      <td>Stock Options</td>\n",
       "      <td>0</td>\n",
       "      <td>cscareerquestions</td>\n",
       "    </tr>\n",
       "    <tr>\n",
       "      <th>416147</th>\n",
       "      <td>Exclusive: This is the OnePlus 5 https://t.co/...</td>\n",
       "      <td>1</td>\n",
       "      <td>java</td>\n",
       "    </tr>\n",
       "    <tr>\n",
       "      <th>295703</th>\n",
       "      <td>Accessing files from a Linux partition</td>\n",
       "      <td>3</td>\n",
       "      <td>linuxquestions</td>\n",
       "    </tr>\n",
       "    <tr>\n",
       "      <th>77819</th>\n",
       "      <td>I like the idea of working in a Data Center, b...</td>\n",
       "      <td>114</td>\n",
       "      <td>networking</td>\n",
       "    </tr>\n",
       "    <tr>\n",
       "      <th>36635</th>\n",
       "      <td>Hire Top Mobile App Developers with Extensive ...</td>\n",
       "      <td>1</td>\n",
       "      <td>softwaredevelopment</td>\n",
       "    </tr>\n",
       "    <tr>\n",
       "      <th>116086</th>\n",
       "      <td>Lenovo X260 with Sierra Wireless EM7455 Window...</td>\n",
       "      <td>2</td>\n",
       "      <td>Windows10</td>\n",
       "    </tr>\n",
       "    <tr>\n",
       "      <th>527172</th>\n",
       "      <td>Considering AppleCare+ for MBP</td>\n",
       "      <td>1</td>\n",
       "      <td>mac</td>\n",
       "    </tr>\n",
       "    <tr>\n",
       "      <th>369757</th>\n",
       "      <td>HTML5 Or Native Application: The Debate Contin...</td>\n",
       "      <td>1</td>\n",
       "      <td>Web_Development</td>\n",
       "    </tr>\n",
       "    <tr>\n",
       "      <th>581201</th>\n",
       "      <td>iOS beta 3 worked pretty good. Updated to 4 an...</td>\n",
       "      <td>1</td>\n",
       "      <td>iOSBeta</td>\n",
       "    </tr>\n",
       "    <tr>\n",
       "      <th>444128</th>\n",
       "      <td>Why does my line 8 not work?</td>\n",
       "      <td>1</td>\n",
       "      <td>learnpython</td>\n",
       "    </tr>\n",
       "    <tr>\n",
       "      <th>546194</th>\n",
       "      <td>How ticket touts are 'killing' the live music ...</td>\n",
       "      <td>5</td>\n",
       "      <td>dataisbeautiful</td>\n",
       "    </tr>\n",
       "  </tbody>\n",
       "</table>\n",
       "</div>"
      ]
     },
     "execution_count": 11,
     "metadata": {},
     "output_type": "execute_result"
    }
   ],
   "source": [
    "data.sample(20)"
   ]
  },
  {
   "cell_type": "code",
   "execution_count": 12,
   "metadata": {},
   "outputs": [],
   "source": [
    "X = data['title']\n",
    "y = data['subreddit']"
   ]
  },
  {
   "cell_type": "markdown",
   "metadata": {},
   "source": [
    "#### Splitting data into train (60%), val (20%), and test (20%)."
   ]
  },
  {
   "cell_type": "code",
   "execution_count": 13,
   "metadata": {},
   "outputs": [
    {
     "name": "stdout",
     "output_type": "stream",
     "text": [
      "(369495,)\n(123165,)\n(123165,)\n(369495,)\n(123165,)\n(123165,)\n"
     ]
    }
   ],
   "source": [
    "from sklearn.model_selection import train_test_split\n",
    "\n",
    "X_train, X_test, y_train, y_test = train_test_split(X, y, test_size=0.4, random_state=17)\n",
    "X_test, X_val, y_test, y_val = train_test_split(X_test, y_test, test_size=0.5, random_state=31)\n",
    "\n",
    "print(X_train.shape)\n",
    "print(X_test.shape)\n",
    "print(X_val.shape)\n",
    "print(y_train.shape)\n",
    "print(y_test.shape)\n",
    "print(y_val.shape)"
   ]
  },
  {
   "cell_type": "markdown",
   "metadata": {},
   "source": [
    "#Baseline\n",
    "Simple baseline using tf-idf based approaches"
   ]
  },
  {
   "cell_type": "code",
   "execution_count": 14,
   "metadata": {},
   "outputs": [],
   "source": [
    "from sklearn.preprocessing import LabelEncoder\n",
    "\n",
    "label_encoder = LabelEncoder()\n",
    "label_encoder.fit(data['subreddit'])\n",
    "y_train = label_encoder.transform(y_train)\n",
    "y_val = label_encoder.transform(y_val)\n",
    "y_test = label_encoder.transform(y_test)"
   ]
  },
  {
   "cell_type": "code",
   "execution_count": 15,
   "metadata": {},
   "outputs": [],
   "source": [
    "from sklearn.feature_extraction.text import TfidfVectorizer\n",
    "\n",
    "vectorizer = TfidfVectorizer(ngram_range=(1, 4), stop_words='english')\n",
    "X_train_vectors = vectorizer.fit_transform(X_train)\n",
    "X_val_vectors = vectorizer.transform(X_val)\n",
    "X_test_vectors = vectorizer.transform(X_test)"
   ]
  },
  {
   "cell_type": "code",
   "execution_count": 16,
   "metadata": {},
   "outputs": [],
   "source": [
    "import numpy as np\n",
    "\n",
    "\n",
    "def top_n_accuracy(y_true, probs, n=5):\n",
    "    top_n_list = []\n",
    "    for prob in probs:\n",
    "        top_n_list.append(np.argsort(-prob)[:n])\n",
    "    predictions = []\n",
    "    for prediction, top_n in zip(y_true, top_n_list):\n",
    "        predictions.append(int(prediction in top_n))\n",
    "    return np.sum(predictions) / y_true.shape[0]"
   ]
  },
  {
   "cell_type": "code",
   "execution_count": 17,
   "metadata": {},
   "outputs": [
    {
     "data": {
      "text/plain": [
       "MultinomialNB(alpha=1.0, class_prior=None, fit_prior=True)"
      ]
     },
     "execution_count": 17,
     "metadata": {},
     "output_type": "execute_result"
    }
   ],
   "source": [
    "from sklearn.naive_bayes import MultinomialNB\n",
    "\n",
    "nb = MultinomialNB()\n",
    "nb.fit(X_train_vectors, y_train)"
   ]
  },
  {
   "cell_type": "code",
   "execution_count": 18,
   "metadata": {},
   "outputs": [],
   "source": [
    "nb_predictions = nb.predict(X_val_vectors)\n",
    "nb_probs = nb.predict_proba(X_val_vectors)"
   ]
  },
  {
   "cell_type": "code",
   "execution_count": 24,
   "metadata": {},
   "outputs": [
    {
     "name": "stdout",
     "output_type": "stream",
     "text": [
      "Top 1 accuracy:\n 0.323086915926\n"
     ]
    },
    {
     "name": "stdout",
     "output_type": "stream",
     "text": [
      "Top 5 accuracy:\n 0.606389802298\n"
     ]
    }
   ],
   "source": [
    "print('Top 1 accuracy:\\n', top_n_accuracy(y_val, nb_probs, 1))\n",
    "print('Top 5 accuracy:\\n', top_n_accuracy(y_val, nb_probs, 5))"
   ]
  },
  {
   "cell_type": "code",
   "execution_count": 20,
   "metadata": {},
   "outputs": [
    {
     "data": {
      "text/plain": [
       "LinearSVC(C=1.0, class_weight=None, dual=True, fit_intercept=True,\n     intercept_scaling=1, loss='squared_hinge', max_iter=1000,\n     multi_class='ovr', penalty='l2', random_state=None, tol=0.0001,\n     verbose=0)"
      ]
     },
     "execution_count": 20,
     "metadata": {},
     "output_type": "execute_result"
    }
   ],
   "source": [
    "from sklearn.svm import LinearSVC\n",
    "\n",
    "svm = LinearSVC(penalty='l2', loss='squared_hinge', multi_class='ovr', max_iter=1000)\n",
    "svm.fit(X_train_vectors, y_train)"
   ]
  },
  {
   "cell_type": "code",
   "execution_count": 21,
   "metadata": {},
   "outputs": [],
   "source": [
    "svm_predictions = svm.predict(X_val_vectors)"
   ]
  },
  {
   "cell_type": "code",
   "execution_count": 22,
   "metadata": {},
   "outputs": [
    {
     "data": {
      "text/plain": [
       "0.53853773393415338"
      ]
     },
     "execution_count": 22,
     "metadata": {},
     "output_type": "execute_result"
    }
   ],
   "source": [
    "from sklearn.metrics import accuracy_score\n",
    "\n",
    "accuracy_score(y_val, svm_predictions)"
   ]
  },
  {
   "cell_type": "code",
   "execution_count": 98,
   "metadata": {},
   "outputs": [
    {
     "name": "stdout",
     "output_type": "stream",
     "text": [
      "[ 89 131   0  83  90]\n[  0 124 131  77  89]\n[  0  56  89  49 124]\n[  0  89  49 131  25]\n[131 130   0  89  49]\n"
     ]
    }
   ],
   "source": [
    ""
   ]
  },
  {
   "cell_type": "code",
   "execution_count": null,
   "metadata": {},
   "outputs": [],
   "source": []
  }
 ],
 "metadata": {
  "kernelspec": {
   "display_name": "Python 3",
   "language": "python",
   "name": "python3"
  },
  "language_info": {
   "codemirror_mode": {
    "name": "ipython",
    "version": 3
   },
   "file_extension": ".py",
   "mimetype": "text/x-python",
   "name": "python",
   "nbconvert_exporter": "python",
   "pygments_lexer": "ipython3",
   "version": "3.6.3"
  }
 },
 "nbformat": 4,
 "nbformat_minor": 1
}
